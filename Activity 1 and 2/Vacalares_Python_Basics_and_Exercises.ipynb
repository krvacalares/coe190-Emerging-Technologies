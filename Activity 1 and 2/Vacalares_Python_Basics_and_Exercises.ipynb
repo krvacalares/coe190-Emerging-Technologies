{
  "cells": [
    {
      "cell_type": "markdown",
      "metadata": {},
      "source": [
        "Name: Vacalares, Karl Richie B."
      ]
    },
    {
      "cell_type": "markdown",
      "metadata": {
        "id": "_a69gmJn_eCE"
      },
      "source": [
        "# Programming Language Overview\n",
        "\n",
        "Python, created by Guido van Rossum and released in 1991, is renowned for its simplicity and readability, making it a popular choice for beginners and experts alike. It's a versatile language used in various fields, from web development to data science and artificial intelligence. Python's design philosophy emphasizes code readability with its notable use of significant whitespace. This guide explores the key aspects of Python, from its basic syntax to more advanced features, providing detailed explanations and code examples.\n",
        "\n",
        "# Instruction\n",
        "In this laboratory activity, you need to answer the following exercises. Submit your output in `.ipynb` format, following the naming convention, `<Lastname>_Python_Basics_and_Exercises.ipynb`, example, `Aleluya_Python_Basics_and_Exercises.ipynb`. Submission bin is in MOLE. Failure to submit on or before the due date will result into a score of `zero`.\n",
        "\n",
        "# Reminders\n",
        "Make sure that you understand the lessons. Do not just copy answers from any AI prompts. Your instructor will give you oral assessment if you failed to show integrity.\n",
        "\n",
        "# Outline\n",
        "The following topics in Python programming will be covered.\n",
        "1.   Operators (Arithmetic, Assignment, Bitwise)\n",
        "2.   Strings\n",
        "3.   Type Casting\n",
        "4.   Built-in Functions\n",
        "5.   Selection Structures\n",
        "6.   Iterative Structures\n",
        "7.   Lists\n",
        "8.   Tuples\n",
        "9.   Sets\n",
        "10.  Dictionaries\n",
        "11.  Functions\n",
        "\n",
        "---\n",
        "\n"
      ]
    },
    {
      "cell_type": "markdown",
      "metadata": {
        "id": "-66DfJx-BP5A"
      },
      "source": [
        "# 1. Operators"
      ]
    },
    {
      "cell_type": "markdown",
      "metadata": {
        "id": "Zg7qwmymBUOn"
      },
      "source": [
        "## Multiplication at Three\n",
        "Write a program that takes in three inputs, x, y, and z, and prints their product when they are all multiplied by each other.\n",
        "\n",
        "\n",
        "Sample output:\n",
        "```\n",
        "Enter x: 10\n",
        "Enter y: 55\n",
        "Enter z: 44\n",
        "Product: 24200\n",
        "\n",
        "```"
      ]
    },
    {
      "cell_type": "code",
      "execution_count": null,
      "metadata": {
        "id": "HIXXqsdH_XXI"
      },
      "outputs": [],
      "source": [
        "x = int(input(\"Enter x: \"))\n",
        "y = int(input(\"Enter y: \"))\n",
        "z = int(input(\"Enter z: \"))\n",
        "\n",
        "product = x*y*z\n",
        "\n",
        "print(\"Enter x: \", x)\n",
        "print(\"Enter y: \", y)\n",
        "print(\"Enter z: \", z)\n",
        "print(f\"Product: \", product)"
      ]
    },
    {
      "cell_type": "markdown",
      "metadata": {
        "id": "G6nnm9NYB6oQ"
      },
      "source": [
        "## Square Me\n",
        "Write a program that takes a number as input from the user and prints its squared value.\n",
        "\n",
        "Sample output:\n",
        "```\n",
        "Enter number: 2\n",
        "Square: 4\n",
        "```"
      ]
    },
    {
      "cell_type": "code",
      "execution_count": null,
      "metadata": {
        "id": "VndzREDG_hoI"
      },
      "outputs": [],
      "source": [
        "number = int(input(\"Enter number: \"))\n",
        "square = number ** 2\n",
        "\n",
        "print(\"Enter Number: \", number)\n",
        "print(\"Square: \", square)"
      ]
    },
    {
      "cell_type": "markdown",
      "metadata": {
        "id": "rus8URC7CV3s"
      },
      "source": [
        "## Eat the Big\n",
        "Write a program that accepts three integer inputs, x, y, and z, and prints the result when x is subtracted by y and z.\n",
        "\n",
        "Sample output:\n",
        "```\n",
        "Enter x: 25\n",
        "Enter y: 10\n",
        "Enter z: 5\n",
        "Difference: 10\n",
        "```"
      ]
    },
    {
      "cell_type": "code",
      "execution_count": null,
      "metadata": {
        "id": "Ukp8imtkCm0H"
      },
      "outputs": [],
      "source": [
        "x = int(input(\"Enter x: \"))\n",
        "y = int(input(\"Enter y: \"))\n",
        "z = int(input(\"Enter z: \"))\n",
        "\n",
        "difference = x-y-z\n",
        "\n",
        "print(\"Enter x: \", x)\n",
        "print(\"Enter y: \", y)\n",
        "print(\"Enter z: \", z)\n",
        "print(\"Difference: \", difference)"
      ]
    },
    {
      "cell_type": "markdown",
      "metadata": {
        "id": "AiNmrP9nCna1"
      },
      "source": [
        "## Inverse Instructions\n",
        "Write a program that asks for four float numbers, a, b, c, and d. Add a and b and assign the value to a, and also, add c and d and assign to c. Multiply a by c and assign them to a variable called `result`. Print the `result` in two decimal places.\n",
        "\n",
        "Sample Output:\n",
        "```\n",
        "Enter the value of a: 1\n",
        "Enter the value of b: 2\n",
        "Enter the value of c: 3\n",
        "Enter the value of d: 4\n",
        "Result: 21.00\n",
        "```"
      ]
    },
    {
      "cell_type": "code",
      "execution_count": null,
      "metadata": {
        "id": "1vM7qylgDRwY"
      },
      "outputs": [],
      "source": [
        "a = int(input(\"Enter a: \"))\n",
        "b = int(input(\"Enter b: \"))\n",
        "c = int(input(\"Enter c: \"))\n",
        "d = int(input(\"Enter d: \"))\n",
        "\n",
        "print(\"Enter a: \", a)\n",
        "print(\"Enter b: \", b)\n",
        "print(\"Enter c: \", c)\n",
        "print(\"Enter d: \", d)\n",
        "\n",
        "add1 = a+b\n",
        "a = add1\n",
        "add2 = c+d\n",
        "c = add2\n",
        "result = float(a*c)\n",
        "\n",
        "print(\"Result: \", result)"
      ]
    },
    {
      "cell_type": "markdown",
      "metadata": {
        "id": "6GWveym9DqLu"
      },
      "source": [
        "## AND and OR\n",
        "\n",
        "Write a program that asks for three integers, x, y, and z. Use the AND operator on x and y and then, use the OR operator on z and the result of x AND y.\n",
        "\n",
        "Sample output:\n",
        "```\n",
        "Enter x: 12\n",
        "Enter y: 25\n",
        "Enter z: 6\n",
        "Result: 14\n",
        "```\n"
      ]
    },
    {
      "cell_type": "code",
      "execution_count": null,
      "metadata": {
        "id": "j36rghjbDo1z"
      },
      "outputs": [],
      "source": [
        "x = int(input(\"Enter x: \"))\n",
        "y = int(input(\"Enter y: \"))\n",
        "z = int(input(\"Enter z: \"))\n",
        "\n",
        "print(\"Enter x: \", x)\n",
        "print(\"Enter y: \", y)\n",
        "print(\"Enter z: \", z)\n",
        "\n",
        "result1 = x & y\n",
        "result = result1 | z\n",
        "\n",
        "print(\"Result: \", result)"
      ]
    },
    {
      "cell_type": "markdown",
      "metadata": {
        "id": "gFppF4N5EIm-"
      },
      "source": [
        "# 2. Strings"
      ]
    },
    {
      "cell_type": "markdown",
      "metadata": {
        "id": "m4hm4o7uEUw2"
      },
      "source": [
        "## Foods for Life!\n",
        "\n",
        "Write a program that asks for three string inputs, `food1`, `food2`, and `food3`. After asking for input, print in the format: `\"My favorite foods are {food1}, {food2}, {food3}, and more!\"`\n",
        "\n",
        "Sample output:\n",
        "```\n",
        "Enter your favorite food 1: Pizza\n",
        "Enter your favorite food 2: Burger\n",
        "Enter your favorite food 3: Pasta\n",
        "My favorite foods are Pizza, Burger, Pasta, and more!\n",
        "```"
      ]
    },
    {
      "cell_type": "code",
      "execution_count": null,
      "metadata": {
        "id": "skb_LEt6ET6H"
      },
      "outputs": [],
      "source": [
        "food1 = input(\"Enter your favorite food 1: \")\n",
        "food2 = input(\"Enter your favorite food 2: \")\n",
        "food3 = input(\"Enter your favorite food 3: \")\n",
        "\n",
        "print(\"Enter your favorite food 1: \", food1)\n",
        "print(\"Enter your favorite food 2: \", food2)\n",
        "print(\"Enter your favorite food 3: \", food3)\n",
        "\n",
        "print(\"My favorite foods are \" + food1 + \", \" + food2 + \", \" + food3 + \", and more!\")"
      ]
    },
    {
      "cell_type": "markdown",
      "metadata": {
        "id": "X7I8Y3bIE8K7"
      },
      "source": [
        "## Tech Gadget Wishlist\n",
        "Write a program that asks for four tech gadgets on your wishlist. Print a message like: `\"On my tech wishlist: {gadget1}, {gadget2}, {gadget3}, and {gadget4}.\"`\n",
        "\n",
        "```\n",
        "Enter the name of the first tech gadget on your wishlist: Laptop\n",
        "Enter the name of the second tech gadget on your wishlist: Phone\n",
        "Enter the name of the third tech gadget on your wishlist: Camera\n",
        "Enter the name of the fourth tech gadget on your wishlist: Headphones\n",
        "On my tech wishlist: Laptop, Phone, Camera, and Headphones.\n",
        "```"
      ]
    },
    {
      "cell_type": "code",
      "execution_count": null,
      "metadata": {
        "id": "sqaYsZDhFTqt"
      },
      "outputs": [],
      "source": [
        "gadget1 = input(\"Enter the name of the first tech gadget on your wishlist: \")\n",
        "gadget2 = input(\"Enter the name of the second tech gadget on your wishlist: \")\n",
        "gadget3 = input(\"Enter the name of the third tech gadget on your wishlist: \")\n",
        "gadget4 = input(\"Enter the name of the fourth tech gadget on your wishlist: \")\n",
        "\n",
        "print(\"Enter the name of the first tech gadget on your wishlist: \" + gadget1)\n",
        "print(\"Enter the name of the second tech gadget on your wishlist: \" + gadget2)\n",
        "print(\"Enter the name of the third tech gadget on your wishlist: \" + gadget3)\n",
        "print(\"Enter the name of the fourth tech gadget on your wishlist: \" + gadget4)\n",
        "\n",
        "print(\"On my tech wishlist: \" + gadget1 + \", \" + gadget2 + \", \" + gadget3 + \", and \" + gadget4 + \".\")"
      ]
    },
    {
      "cell_type": "markdown",
      "metadata": {
        "id": "g6bURBLaFWtm"
      },
      "source": [
        "# 3. Type Casting"
      ]
    },
    {
      "cell_type": "markdown",
      "metadata": {
        "id": "abqhbTrKF3nt"
      },
      "source": [
        "## Character to ASCII\n",
        "Write a program that takes a character and take its ASCII integer value. Finally, print the result in format `\"The ASCII value of {char} is {value}.\".`\n",
        "\n",
        "```\n",
        "Enter a character: A\n",
        "The ASCII value of A is 65.\n",
        "```"
      ]
    },
    {
      "cell_type": "code",
      "execution_count": null,
      "metadata": {
        "id": "wckOyxlbGJHd"
      },
      "outputs": [],
      "source": [
        "x = input(\"Enter a character: \")\n",
        "print(\"Enter a character: \" + x)\n",
        "\n",
        "value = ord(x)\n",
        "print(\"The ASCII value of \" + x + \" is \" + str(value) + \".\")"
      ]
    },
    {
      "cell_type": "markdown",
      "metadata": {
        "id": "jqHAcp5gFox6"
      },
      "source": [
        "## Numeric String Concatenation\n",
        "Write a program that takes two numeric strings as input, concatenates them, and converts them into integers. Finally, add the two numeric strings to the concatenated value, and returns the result. For example, 2 and 3 -> 23 + 2 + 3 = 28. Finally, print the result in format `\"Result: {result}\".`\n",
        "\n",
        "Sample output:\n",
        "```\n",
        "Enter the first numeric string: 2\n",
        "Enter the second numeric string: 3\n",
        "Result: 28\n",
        "```"
      ]
    },
    {
      "cell_type": "code",
      "execution_count": null,
      "metadata": {
        "id": "6RyLx-MeF0g3"
      },
      "outputs": [],
      "source": [
        "x = input(\"Enter the first numeric string: \")\n",
        "y = input(\"Enter the second numeric string: \")\n",
        "\n",
        "print(\"Enter the first numeric string: \", x)\n",
        "print(\"Enter the second numeric string: \", y)\n",
        "\n",
        "z = x+y\n",
        "x = int(x)\n",
        "y = int(y)\n",
        "z = int(z)\n",
        "result = z+x+y\n",
        "\n",
        "print(\"Result: \", result)"
      ]
    },
    {
      "cell_type": "markdown",
      "metadata": {
        "id": "8Jo5kOFLGWgW"
      },
      "source": [
        "## Greater Character\n",
        "Write a program that asks for two character inputs. Get which character is greater and print the result in format `\"The greater character is: {result}\".`\n",
        "\n",
        "Sample output:\n",
        "```\n",
        "Enter the first character: 0\n",
        "Enter the second character: }\n",
        "The greater character is: }\n",
        "```"
      ]
    },
    {
      "cell_type": "code",
      "execution_count": null,
      "metadata": {
        "id": "FpNTJVoLGerO"
      },
      "outputs": [],
      "source": [
        "length = int(input(\"Enter the length of the side: \"))\n",
        "print(\"Enter the length of the side: \" , length)\n",
        "\n",
        "A = float((3 * (3**0.5) / 2) * (length ** 2))\n",
        "print(\"Area of hexagon: \", round(A,2))"
      ]
    },
    {
      "cell_type": "markdown",
      "metadata": {
        "id": "xqxyB-hPGhvC"
      },
      "source": [
        "# 4. Built-in Functions"
      ]
    },
    {
      "cell_type": "markdown",
      "metadata": {
        "id": "neuwyq84GwVg"
      },
      "source": [
        "## Area of Hexagon\n",
        "Write a program that prompts the user to enter the length of the side of a regular hexagon. The program should use the predefined math functions to calculate the area of the hexagon using the entered side length. Finally, the program should print the calculated area of the hexagon in two decimal places.\n",
        "\n",
        "The formula to get area of hexagon is,\n",
        "<br>$A = \\dfrac{3\\sqrt{3}}{2} a^2$"
      ]
    },
    {
      "cell_type": "markdown",
      "metadata": {
        "id": "suKWlDnLJb1p"
      },
      "source": [
        "Sample output:\n",
        "```\n",
        "Enter side: 5\n",
        "Area of hexagon: 64.95\n",
        "```"
      ]
    },
    {
      "cell_type": "code",
      "execution_count": null,
      "metadata": {
        "id": "Abr1K_CLHj0R"
      },
      "outputs": [],
      "source": [
        "length = int(input(\"Enter the length of the side: \"))\n",
        "print(\"Enter the length of the side: \" , length)\n",
        "\n",
        "A = float((3 * (3**0.5) / 2) * (length ** 2))\n",
        "print(\"Area of hexagon: \", round(A,2))"
      ]
    },
    {
      "cell_type": "markdown",
      "metadata": {
        "id": "pTPluAvoHmPx"
      },
      "source": [
        "## Volume of a Bottle\n",
        "Write a program that prompts the user to enter the dimensions of a bottle - the neck radius, neck height, base radius, and base height. The program should use the predefined math functions to calculate the volume of the bottle using the entered dimensions. Finally, the program should print the calculated volume of the bottle.\n",
        "\n",
        "Volume of a bottle formula:\n",
        "<br>\n",
        "$V= \\dfrac{1}{3} \\pi h_2 ( a^2 + a b + b^2 ) + \\pi b^2 h_1 $\n",
        "\n",
        "\n",
        "*   $a$ is neck radius\n",
        "*   $b$ is base radius\n",
        "*   $h_1$ is base height\n",
        "*   $h_2$ is neck height"
      ]
    },
    {
      "cell_type": "markdown",
      "metadata": {
        "id": "EIQD8h91K98Z"
      },
      "source": [
        "Sample Output:\n",
        "```\n",
        "Enter Neck Radius: 4.5\n",
        "Enter Neck Height: 5.5\n",
        "Enter Base Radius: 6.5\n",
        "Enter Base Height: 7.5\n",
        "Volume of Bottle: 1523.93\n",
        "```"
      ]
    },
    {
      "cell_type": "code",
      "execution_count": null,
      "metadata": {
        "id": "hqRlNuNTLD2c"
      },
      "outputs": [],
      "source": [
        "import numpy as np\n",
        "\n",
        "a = float(input(\"Enter Neck Radius: \"))\n",
        "b = float(input(\"Enter Neck Height: \"))\n",
        "h1 = float(input(\"Enter Base Radius: \"))\n",
        "h2 = float(input(\"Enter Base Height: \"))\n",
        "\n",
        "print(\"Enter Neck Radius:\", a)\n",
        "print(\"Enter Neck Height:\", b)\n",
        "print(\"Enter Base Radius:\", h1)\n",
        "print(\"Enter Base Height:\", h2)\n",
        "\n",
        "\n",
        "v = (1/3 * np.pi * h2) * (a**2 + a*b + b**2) + (np.pi * b**2 * h1)\n",
        "print(\"Volume of Bottle: \", round(v, 2))"
      ]
    },
    {
      "cell_type": "markdown",
      "metadata": {
        "id": "jLcUI4A9LCMm"
      },
      "source": [
        "## Volume of a Pyramid (polygon base)\n",
        "Write a program that prompts the user to enter the number of sides, side length, and height of a pyramid. The program should use the predefined math functions to calculate the volume of the pyramid using the entered values. Finally, the program should print the calculated volume of the pyramid.\n",
        "\n",
        "Volume of pyramid formula:\n",
        "$V = \\dfrac{1}{3} h ( \\dfrac{1}{4} b^2 \\dfrac{cos(\\dfrac{\\pi}{n})}{sin(\\dfrac{\\pi}{n})} )$\n",
        "\n",
        "\n",
        "\n",
        "*   $n$ is number of sides\n",
        "*   $b$ is side length\n",
        "*   $h$ is height"
      ]
    },
    {
      "cell_type": "markdown",
      "metadata": {
        "id": "HHzANBSeuOdQ"
      },
      "source": [
        "Sample output:\n",
        "```\n",
        "Enter number of sides: 3.5\n",
        "Enter side length: 4.5\n",
        "Enter height: 5.5\n",
        "Volume of Pyramid: 7.40\n",
        "```"
      ]
    },
    {
      "cell_type": "code",
      "execution_count": null,
      "metadata": {
        "id": "-gM4VJTjuUID"
      },
      "outputs": [],
      "source": [
        "import math\n",
        "import numpy as np\n",
        "\n",
        "n = float(input(\"Enter number of sides: \"))\n",
        "b = float(input(\"Enter side length: \"))\n",
        "h = float(input(\"Enter height: \"))\n",
        "\n",
        "print(\"Enter number of sides: \", n)\n",
        "print(\"Enter side length: \", b)\n",
        "print(\"Enter height: \", h)\n",
        "\n",
        "x = math.cos(np.pi/n)\n",
        "y = math.sin(np.pi/n)\n",
        "V = (1/3*h) * (((1/4)*b**2) * (x)/(y))\n",
        "\n",
        "print(\"Volume of pyramid: \", round(V, 2))"
      ]
    },
    {
      "cell_type": "markdown",
      "metadata": {
        "id": "VqR1en3Su51l"
      },
      "source": [
        "## String Concatenation\n",
        "Create a program that asks the user to enter two strings. Use the predefined string function to concatenate the two strings and print the result.\n",
        "\n",
        "Sample output:\n",
        "```\n",
        "Enter the first string: Hello\n",
        "Enter the second string: World\n",
        "Concatenated string: HelloWorld\n",
        "```"
      ]
    },
    {
      "cell_type": "code",
      "execution_count": null,
      "metadata": {
        "id": "qf7BJ3fFvEF-"
      },
      "outputs": [],
      "source": [
        "x = input(\"Enter the first string: \")\n",
        "y = input(\"Enter the second string: \")\n",
        "\n",
        "print(\"Enter the first string: \" + x)\n",
        "print(\"Enter the second string: \" + y)\n",
        "\n",
        "result = x+y\n",
        "print(\"Concatenated string: \" + result)"
      ]
    },
    {
      "cell_type": "markdown",
      "metadata": {
        "id": "5XfiBXspvIqC"
      },
      "source": [
        "## String Length Calculator\n",
        "Write a program that asks the user to enter a string. Use the predefined string function to calculate and print the length of the string.\n",
        "\n",
        "Sample output:\n",
        "```\n",
        "Enter a string: programming\n",
        "Length of the string: 11\n",
        "```\n"
      ]
    },
    {
      "cell_type": "code",
      "execution_count": null,
      "metadata": {
        "id": "PgvE82AjvUKP"
      },
      "outputs": [],
      "source": [
        "x = input(\"Enter a string: \")\n",
        "print(\"Enter a string: \" + x)\n",
        "\n",
        "length = len(x)\n",
        "print(\"Length of the string: \", length)"
      ]
    },
    {
      "cell_type": "markdown",
      "metadata": {
        "id": "WxdlxetXvXao"
      },
      "source": [
        "# 5. Selection Structures"
      ]
    },
    {
      "cell_type": "markdown",
      "metadata": {
        "id": "OvA-jvvMvhSW"
      },
      "source": [
        "## Billing It Is\n",
        "Write a program that takes a floating-point number bill as input, representing the total bill amount. It checks the eligibility for a discount based on the bill amount. If the bill is greater than or equal to 100, it prints \"You are eligible for a 10% discount.\" If the bill is greater than or equal to 50 but less than 100, it prints \"You are eligible for a 5% discount.\" If neither condition is met, it does nothing.\n",
        "\n",
        "Sample Output:\n",
        "```\n",
        "Enter your total bill: 150\n",
        "You are eligible for a 10% discount.\n",
        "```"
      ]
    },
    {
      "cell_type": "code",
      "execution_count": null,
      "metadata": {
        "id": "5Q7t8awkv-D5"
      },
      "outputs": [],
      "source": [
        "x = float(input(\"Enter your total bill: \"))\n",
        "print(\"Enter your total bill: \", x)\n",
        "\n",
        "if x >= 100:\n",
        "    print(\"You are eligible for a 10% discount.\")\n",
        "else:  \n",
        "    print(\"You are eligible for a 5% discount.\")"
      ]
    },
    {
      "cell_type": "markdown",
      "metadata": {
        "id": "hwWVbIx-wCBt"
      },
      "source": [
        "## Palindromic Number\n",
        "Write a program that takes an integer number as input, and it is always in 4-digits, and check if it is a palindrome. A palindrome is a number that remains the same when its digits are reversed. If the number is a palindrome, print \"The number is a palindrome.\". Otherwise, it does nothing.\n",
        "\n",
        "Sample output 1:\n",
        "```\n",
        "Enter a number: 1111\n",
        "The number is a palindrome.\n",
        "```\n",
        "Sample output 2:\n",
        "```\n",
        "Enter a number: 3223\n",
        "The number is a palindrome.\n",
        "```\n",
        "Sample output 3:\n",
        "```\n",
        "Enter a number: 4225\n",
        "```"
      ]
    },
    {
      "cell_type": "code",
      "execution_count": null,
      "metadata": {
        "id": "6XokTP3gwpwC"
      },
      "outputs": [],
      "source": [
        "import math\n",
        "\n",
        "def rev(num):\n",
        "    if num == 0:\n",
        "        return 0\n",
        "    return (num % 10) * (10 ** int(math.log10(num))) + rev(num // 10)\n",
        "\n",
        "while True:\n",
        "    x = int(input(\"Enter a 4-digit number: \"))\n",
        "    y = len(str(x))\n",
        "\n",
        "    if y != 4:\n",
        "        print(\"Please input again a 4-digit number. Thank you!\\n\")\n",
        "    else:\n",
        "        print(\"Enter a number:\", x)\n",
        "\n",
        "        if str(x) == str(rev(x)):\n",
        "            print(\"The number is a palindrome.\\n\")\n",
        "        else:\n",
        "            print(\"\\n\")"
      ]
    },
    {
      "cell_type": "markdown",
      "metadata": {
        "id": "D3dtoLaYwuJk"
      },
      "source": [
        "## Driver's License Please\n",
        "Write a program that takes two parameters, `age` (an integer) and `hasLicense` (a character), and check if a person is eligible to drive. To be eligible, the person must be 18 years or older and have a valid driver's license, indicated by `'Y'` or `'y'` for hasLicense. If eligible, print `\"You can drive.\"` Otherwise, print `\"You cannot drive.\"`\n",
        "\n",
        "Sample output 1:\n",
        "```\n",
        "Enter your age: 17\n",
        "Do you have a driver's license? (Y/N): N\n",
        "You cannot drive.\n",
        "```\n",
        "Sample output 2:\n",
        "```\n",
        "Enter your age: 18\n",
        "Do you have a driver's license? (Y/N): Y\n",
        "You can drive.\n",
        "```\n",
        "Sample output 3:\n",
        "```\n",
        "Enter your age: 64\n",
        "Do you have a driver's license? (Y/N): Y\n",
        "You can drive.\n",
        "```\n"
      ]
    },
    {
      "cell_type": "code",
      "execution_count": null,
      "metadata": {
        "id": "RpyuZRS_Pdxl"
      },
      "outputs": [],
      "source": [
        "while True:\n",
        "    age = int(input(\"Enter your age: \"))\n",
        "    hasLicense = input(\"Do you have a driver's license? (Y/N): \").strip().upper()\n",
        "\n",
        "    print(\"Enter your age:\", age)\n",
        "    print(\"Do you have a driver's license? (Y/N):\", hasLicense)\n",
        "\n",
        "    if age < 18 and hasLicense == 'Y':\n",
        "        print(\"You cannot drive.\\n\")\n",
        "    elif age >= 18 and hasLicense == 'N':\n",
        "        print(\"You cannot drive.\\n\")\n",
        "    elif age < 18 and hasLicense == 'N':\n",
        "        print(\"You cannot drive.\\n\")\n",
        "    else:\n",
        "        print(\"You can drive.\\n\")"
      ]
    },
    {
      "cell_type": "markdown",
      "metadata": {
        "id": "B1TfPJViPg2K"
      },
      "source": [
        "## ASCII vs Number\n",
        "\n",
        "Write a program that takes two parameters, character and number. Compare the ASCII value of the character with the given number.\n",
        "\n",
        "If the ASCII value of the character is greater than the number, print \"ASCII wins.\" Otherwise, print \"Number wins.\"\n",
        "\n",
        "Sample output 1:\n",
        "```\n",
        "Enter a character: 5\n",
        "Enter a number: 5\n",
        "ASCII wins\n",
        "```\n",
        "Sample output 2:\n",
        "```\n",
        "Enter a character: 4\n",
        "Enter a number: a\n",
        "ASCII wins\n",
        "```\n",
        "Sample output 3:\n",
        "```\n",
        "Enter a character: 7\n",
        "Enter a number: 200\n",
        "Number wins\n",
        "```"
      ]
    },
    {
      "cell_type": "code",
      "execution_count": null,
      "metadata": {
        "id": "3XtVm0NcP8JW"
      },
      "outputs": [],
      "source": [
        "while True:\n",
        "    char = input(\"Enter a character: \")\n",
        "    num = int(input(\"Enter a number: \"))\n",
        "    \n",
        "    print(\"Enter a character: \" + char)\n",
        "    print(\"Enter a number: \", num)\n",
        "    char = ord(char)\n",
        "    \n",
        "    if char > num:\n",
        "        print(\"ASCII wins\\n\")\n",
        "    else:\n",
        "        print(\"Number wins\\n\")"
      ]
    },
    {
      "cell_type": "markdown",
      "metadata": {
        "id": "-JrDHz7SP_Gk"
      },
      "source": [
        "## Voting Eligibility\n",
        "Write a program that takes a person's age and citizenship status (citizen - 1 or non-citizen - 0) as input and determines whether they are eligible to vote based on the following conditions:\n",
        "\n",
        "If the person is a citizen and 18 years or older, print `\"You are eligible to vote\".`\n",
        "If the person is a non-citizen, print `\"Only citizens are eligible to vote\".`\n",
        "If the person is younger than 18, print `\"You must be 18 years or older to vote\".`\n",
        "\n",
        "Sample output 1:\n",
        "```\n",
        "Enter your age: 20\n",
        "Are you a citizen? (Enter 1 for yes, 0 for no): 1\n",
        "You are eligible to vote.\n",
        "```\n",
        "Sample output 2:\n",
        "```\n",
        "Enter your age: 17\n",
        "Are you a citizen? (Enter 1 for yes, 0 for no): 1\n",
        "You must be 18 years or older to vote.\n",
        "```\n",
        "Sample output 3:\n",
        "```\n",
        "Enter your age: 100\n",
        "Are you a citizen? (Enter 1 for yes, 0 for no): 0\n",
        "Only citizens are eligible to vote.\n",
        "```\n"
      ]
    },
    {
      "cell_type": "code",
      "execution_count": null,
      "metadata": {
        "id": "2Xst4lEQQX19"
      },
      "outputs": [],
      "source": [
        "while True:\n",
        "    age = int(input(\"Enter your age: \"))\n",
        "    citizen = int(input(\"Are you a citizen? (Enter 1 for yes, 0 for no): \"))\n",
        "    \n",
        "    print(\"Enter your age: \", age)\n",
        "    print(\"Are you a citizen? (Enter 1 for yes, 0 for no): \", citizen)\n",
        "    \n",
        "    if age >= 18 and citizen == 1:\n",
        "        print(\"You are eligible to vote.\\n\")\n",
        "    elif age >= 18 and citizen == 0:\n",
        "        print(\"Only citizens are eligible to vote.\\n\") \n",
        "    else:\n",
        "        print(\"You must be 18 years or older to vote.\\n\") "
      ]
    },
    {
      "cell_type": "markdown",
      "metadata": {
        "id": "WArXE2sWQXNm"
      },
      "source": [
        "## BMI Calculator\n",
        "Write a program that calculates and categorizes Body Mass Index (BMI) based on weight (in kilograms) and height (in meters).\n",
        "\n",
        "Calculating BMI:\n",
        "\n",
        "* The program should take two float inputs, `weight` (in kilograms) and `height` (in meters). Then, the program should calculate the BMI using the formula: `BMI = weight / (height * height)`\n",
        "\n",
        "BMI Category:\n",
        "\n",
        "* The program should then use the BMI value and print the BMI category based on the following criteria:\n",
        "    *  If `bmi` is less than 18.5, print `\"Underweight.\"`\n",
        "    * If `bmi` is between 18.5 (inclusive) and 24.9 (inclusive), print `\"Normal weight.\"`\n",
        "    * If `bmi` is between 25 (inclusive) and 29.9 (inclusive), print `\"Overweight.\"`\n",
        "    * If `bmi` is greater than or equal to 30, print `\"Obese.\"`\n",
        "\n",
        "\n",
        "Sample output 1:\n",
        "```\n",
        "Enter weight (in kilograms): 84\n",
        "Enter height (in meters): 1.7\n",
        "Overweight\n",
        "```\n",
        "Sample output 2:\n",
        "```\n",
        "Enter weight (in kilograms): 75\n",
        "Enter height (in meters): 1.76\n",
        "Normal weight\n",
        "```\n",
        "Sample output 3:\n",
        "```\n",
        "Enter weight (in kilograms): 54\n",
        "Enter height (in meters): 1.67\n",
        "Normal weight\n",
        "```"
      ]
    },
    {
      "cell_type": "code",
      "execution_count": null,
      "metadata": {
        "id": "tP8ajKfiRJAn"
      },
      "outputs": [],
      "source": [
        "while True:\n",
        "    weight = float(input(\"Enter weight (in kilograms): \"))\n",
        "    height = float(input(\"Enter height (in meters): \"))\n",
        "    \n",
        "    print(\"EntEnter weight (in kilograms): \", weight)\n",
        "    print(\"Enter height (in meters): \", height)\n",
        "    \n",
        "    bmi = weight / (height * height)\n",
        "    \n",
        "    if bmi < 18.5:\n",
        "        print(\"Underweight.\\n\")\n",
        "    elif bmi >= 18.5 and bmi <=24.9:\n",
        "        print(\"Normal Weight.\\n\")\n",
        "    elif bmi >= 25 and bmi <= 29.9:\n",
        "        print(\"Overweight.\\n\")\n",
        "    else:\n",
        "        print(\"Obese.\\n\")"
      ]
    },
    {
      "cell_type": "markdown",
      "metadata": {
        "id": "8zDn6uswRLzW"
      },
      "source": [
        "## Housing Loan\n",
        "Write a program that takes two inputs: a float `income` and an int `isMarried`. It should determine a person's eligibility for a loan based on the following rules and print the corresponding eligibility message:\n",
        "* If `income` is less than or equal to 50000 and `isMarried is 1`, print `\"Eligible for loan\"`\n",
        "* If `income` is less than or equal to 50000 but `isMarried` is 0, print `\"Not eligible for loan\"`\n",
        "* If `income` is greater than 50000, print `\"Eligible for housing loan\"`"
      ]
    },
    {
      "cell_type": "code",
      "execution_count": null,
      "metadata": {
        "id": "Ni4bY33uRq9g"
      },
      "outputs": [],
      "source": [
        "while True:\n",
        "    income = float(input(\"Income: \"))\n",
        "    isMarried = int(input(\"isMarried: \"))\n",
        "    \n",
        "    x = 50000\n",
        "    \n",
        "    if income <= x and isMarried == 1:\n",
        "        print(\"Eligible for loan.\\n\")\n",
        "    elif income <= x and isMarried == 0:\n",
        "        print(\"Not eligible for loan\\n\")\n",
        "    else:\n",
        "        print(\"Eligible for housing load.\\n\")"
      ]
    },
    {
      "cell_type": "markdown",
      "metadata": {
        "id": "SjFo_av1Rsgm"
      },
      "source": [
        "## Shapes\n",
        "\n",
        "Write a program that takes an integer `numSides` as input. It should calculate and return the area of a geometric shape based on the following rules:\n",
        "\n",
        "*   If `numSides` is 3, it should calculate the area of a triangle. It should prompt the user to enter the base and height of the triangle and calculate the area using the formula `0.5 * base * height`.\n",
        "\n",
        "*   If `numSides` is 4, it should ask the user to choose between a rectangle or a square. If the user chooses a rectangle, it should prompt the user to enter the length and width of the rectangle and calculate the area as `length * width`. If the user chooses a square, it should prompt the user to enter the side length and calculate the area as `side * side`.\n",
        "\n",
        "*  If `numSides` is 0, it should calculate the area of a circle. It should prompt the user to enter the radius of the circle and calculate the area using the formula `π * radius * radius`, where π is the mathematical constant pi (you can use the `M_PI` constant from the math library).\n",
        "\n",
        "*   If `numSides` is any other value, it should print `\"Invalid number of sides!\".`\n",
        "\n",
        "* Print the area in two decimal places in the format: `\"The area of the shape is: {area}\"`\n",
        "\n",
        "\n",
        "Sample output 1:\n",
        "```\n",
        "Enter the number of sides: 3\n",
        "Enter the base length of the triangle: 10\n",
        "Enter the height of the triangle: 15\n",
        "The area of the shape is: 75.00\n",
        "```\n",
        "Sample output 2:\n",
        "```\n",
        "Enter the number of sides: 4\n",
        "Enter 1 for Rectangle or 2 for Square: 1\n",
        "Enter the length of the rectangle: 20\n",
        "Enter the width of the rectangle: 44\n",
        "The area of the shape is: 880.00\n",
        "```\n",
        "Sample output 3:\n",
        "```\n",
        "Enter the number of sides: 4\n",
        "Enter 1 for Rectangle or 2 for Square: 2\n",
        "Enter the side length of the square: 45\n",
        "The area of the shape is: 2025.00\n",
        "```"
      ]
    },
    {
      "cell_type": "code",
      "execution_count": null,
      "metadata": {
        "id": "EeUyEbr6Sp3e"
      },
      "outputs": [],
      "source": [
        "while True:\n",
        "    side = int(input(\"Enter the sides: \"))\n",
        "    print(\"Enter the number of sides: \", side)\n",
        "    \n",
        "    if side == 3:\n",
        "        length = int(input(\"Input length: \"))\n",
        "        height = int(input(\"Input height: \"))\n",
        "        \n",
        "        area = 0.5 * length * height\n",
        "        \n",
        "        print(\"Enter the base length of the triangle: \", length)\n",
        "        print(\"Enter the height of the triangle: \", height)\n",
        "        print(\"The area of the triangle is: \", area, \"\\n\")\n",
        "        \n",
        "    elif side == 4:\n",
        "        while True:\n",
        "            side2 = int(input(\"Enter 1 for Rectangle or 2 for Square: \"))\n",
        "            print(\"Enter 1 for Rectangle or 2 for Square: \", side2)\n",
        "            \n",
        "            if side2 == 1:\n",
        "                length = int(input(\"Input length: \"))\n",
        "                width = int(input(\"Input width: \"))\n",
        "                \n",
        "                area = length * width\n",
        "                \n",
        "                print(\"Enter the base length of the rectangle: \", length)\n",
        "                print(\"Enter the width of the rectangle: \", height)\n",
        "                print(\"The area of the rectangle is: \", area, \"\\n\")\n",
        "            \n",
        "            else:\n",
        "                side = int(input(\"side: \"))\n",
        "                area = side*side\n",
        "                \n",
        "                print(\"Enter the side of the square: \", side)\n",
        "                print(\"The area of the square is: \", area, \"\\n\")\n",
        "            break\n",
        "            "
      ]
    },
    {
      "cell_type": "markdown",
      "metadata": {
        "id": "bGP8qUzbSr1E"
      },
      "source": [
        "# 6. Iterative Structures"
      ]
    },
    {
      "cell_type": "markdown",
      "metadata": {
        "id": "Yy0XMtxyS3Py"
      },
      "source": [
        "## Fizz Buzz\n",
        "Write a program that takes an integer `n`.\n",
        "\n",
        "You are required to write a program that generates a sequence of numbers based on a given integer input. The program should use `while loop` to loop from 1 to the given integer, and for each number, it should apply the following conditions:\n",
        "\n",
        "* If the number is divisible by 3, print `\"Fizz\"`\n",
        "* If the number is divisible by 5, print `\"Buzz\"`\n",
        "* If the number is divisible by both 3 and 5, print `\"FizzBuzz\"`\n",
        "* If none of the above conditions are met, print the number itself\n",
        "\n",
        "For instance, if the given integer input is 15, the program should generate the sequence: `1, 2, Fizz, 4, Buzz, Fizz, 7, 8, Fizz, Buzz, 11, Fizz, 13, 14, FizzBuzz.`\n",
        "\n",
        "Sample output:\n",
        "```\n",
        "Enter a positive integer: 25\n",
        "1\n",
        "2\n",
        "Fizz\n",
        "4\n",
        "Buzz\n",
        "Fizz\n",
        "7\n",
        "8\n",
        "Fizz\n",
        "Buzz\n",
        "11\n",
        "Fizz\n",
        "13\n",
        "14\n",
        "FizzBuzz\n",
        "16\n",
        "17\n",
        "Fizz\n",
        "19\n",
        "Buzz\n",
        "Fizz\n",
        "22\n",
        "23\n",
        "Fizz\n",
        "Buzz\n",
        "```"
      ]
    },
    {
      "cell_type": "code",
      "execution_count": null,
      "metadata": {
        "id": "4xPSCMP6TUDO"
      },
      "outputs": [],
      "source": [
        "number = int(input(\"Enter a positive integer: \"))\n",
        "print(\"Enter a positive integer:\", number)\n",
        "\n",
        "initial = 1\n",
        "\n",
        "while True:\n",
        "    if initial <= number:\n",
        "        if initial % 3 == 0:\n",
        "            print(\"Fizz\")\n",
        "            initial += 1\n",
        "            \n",
        "        elif initial % 5 == 0:\n",
        "            print(\"Buzz\")\n",
        "            initial += 1\n",
        "        \n",
        "        elif initial % 3 == 0 and initial % 5 == 0:\n",
        "            print(\"Buzz\")\n",
        "            initial += 1\n",
        "                \n",
        "        else:\n",
        "            print(initial)\n",
        "            initial += 1\n",
        "        \n",
        "    else:\n",
        "        break"
      ]
    },
    {
      "cell_type": "markdown",
      "metadata": {
        "id": "wNHKQyzHTW3h"
      },
      "source": [
        "## Sum of Odd Numbers\n",
        "Write a program that takes an integer number. Use a `while loop` to calculate the sum of all odd numbers from 1 to the entered number and print it.\n",
        "\n",
        "Sample output 1:\n",
        "```\n",
        "Enter a positive integer: 15\n",
        "Sum of odd numbers: 64\n",
        "```\n",
        "Sample output 2:\n",
        "```\n",
        "Enter a positive integer: 9\n",
        "Sum of odd numbers: 25\n",
        "```"
      ]
    },
    {
      "cell_type": "code",
      "execution_count": null,
      "metadata": {
        "id": "7NgkgYIJTvlU"
      },
      "outputs": [],
      "source": [
        "number = int(input(\"Enter a positive integer: \"))\n",
        "print(\"Enter a positive integer: \", number)\n",
        "\n",
        "initial = 1\n",
        "sum = 0\n",
        "\n",
        "\n",
        "while initial <= number:\n",
        "    if initial % 2 != 0:\n",
        "        sum += initial\n",
        "    initial += 1\n",
        "\n",
        "print(\"Sum of odd numbers: \", sum)"
      ]
    },
    {
      "cell_type": "markdown",
      "metadata": {
        "id": "wcdgt4QeTxnD"
      },
      "source": [
        "## Number Sequence with Conditional Printing\n",
        "Write a program that takes an integer `n`. Use a `for loop` to generate a number sequence based on certain conditions and print the sequence accordingly. The program follows the rules below:\n",
        "\n",
        "1. If a number is divisible by both 3 and 5, print the number multiplied by 3 on a new line.\n",
        "2. If a number is divisible by 3, print the number multiplied by 3 followed by a space.\n",
        "3. If a number is divisible by 5, print only a newline character.\n",
        "4. For any other number, print the number followed by a space.\n",
        "\n",
        "Sample output 1:\n",
        "```\n",
        "Enter a positive integer: 20\n",
        "1 2 9 4\n",
        "18 7 8 27\n",
        "11 36 13 14 45\n",
        "16 17 54 19\n",
        "```\n",
        "Sample output 2:\n",
        "```\n",
        "Enter a positive integer: 30\n",
        "1 2 9 4\n",
        "18 7 8 27\n",
        "11 36 13 14 45\n",
        "16 17 54 19\n",
        "63 22 23 72\n",
        "26 81 28 29 90\n",
        "```"
      ]
    },
    {
      "cell_type": "code",
      "execution_count": null,
      "metadata": {
        "id": "pwJJEGO3ULKE"
      },
      "outputs": [],
      "source": [
        "num = int(input(\"Enter a positive integer: \"))\n",
        "print(\"Enter a positive integer:\", num)\n",
        "\n",
        "for i in range(1, num + 1):\n",
        "    if i % 3 == 0 and i % 5 == 0:\n",
        "        print(i * 3, end=\" \")\n",
        "        print()\n",
        "    elif i % 3 == 0:\n",
        "        print(i * 3, end=\" \")\n",
        "    elif i % 5 == 0:\n",
        "        print()\n",
        "    else:\n",
        "        print(i, end=\" \")\n"
      ]
    },
    {
      "cell_type": "markdown",
      "metadata": {
        "id": "h-rYtzsXUQKP"
      },
      "source": [
        "## Reverse of Digits\n",
        "Write a program that takes an integer `n`. Using a `for loop`, get the reverse of the digits of the entered number and print it.\n",
        "\n",
        "Sample output:\n",
        "```\n",
        "Enter a positive integer: 12345\n",
        "Reverse of digits: 54321\n",
        "```"
      ]
    },
    {
      "cell_type": "code",
      "execution_count": null,
      "metadata": {
        "id": "ngoMzHjjUcHx"
      },
      "outputs": [],
      "source": [
        "num = input(\"Enter a positive integer: \")\n",
        "print(\"Enter a positive integer:\", num)\n",
        "\n",
        "reverse = int(num[::-1])\n",
        "print(\"Reversed number:\", reverse) "
      ]
    },
    {
      "cell_type": "markdown",
      "metadata": {
        "id": "LZs18eGkUefz"
      },
      "source": [
        "## Raise the Flag\n",
        "Write a program that takes an integer input `n` and prints a flag to the console made up of asterisks. The flag should have `n` rows and `2n` columns, with the top half of the flag being the same as the bottom half, except flipped horizontally.\n",
        "\n",
        "Sample output 1:\n",
        "```\n",
        "Enter a number: 3\n",
        "*    *\n",
        "**  **\n",
        "******\n",
        "******\n",
        "**  **\n",
        "*    *\n",
        "```\n",
        "Sample output 2:\n",
        "```\n",
        "Enter a number: 10\n",
        "*                  *\n",
        "**                **\n",
        "***              ***\n",
        "****            ****\n",
        "*****          *****\n",
        "******        ******\n",
        "*******      *******\n",
        "********    ********\n",
        "*********  *********\n",
        "********************\n",
        "********************\n",
        "*********  *********\n",
        "********    ********\n",
        "*******      *******\n",
        "******        ******\n",
        "*****          *****\n",
        "****            ****\n",
        "***              ***\n",
        "**                **\n",
        "*                  *\n",
        "```"
      ]
    },
    {
      "cell_type": "code",
      "execution_count": null,
      "metadata": {
        "id": "VRNS1BWhVC4h"
      },
      "outputs": [],
      "source": [
        "n = int(input(\"Enter a number: \"))\n",
        "print(\"Enter a number: \", n)\n",
        "\n",
        "for i in range(1, n + 1):\n",
        "    print(\"*\" * i, end=\"\")\n",
        "    print(\" \" * (2 * (n - i)), end=\"\")\n",
        "    print(\"*\" * i)\n",
        "\n",
        "for i in range(n, 0, -1):\n",
        "    print(\"*\" * i, end=\"\")\n",
        "    print(\" \" * (2 * (n - i)), end=\"\")\n",
        "    print(\"*\" * i)\n"
      ]
    },
    {
      "cell_type": "markdown",
      "metadata": {
        "id": "t6lVDImLVFtb"
      },
      "source": [
        "## Inverted Pyramid Pattern\n",
        "Write a program that takes an integer `height` of the pyramid. Use `nested loops` to print an inverted pyramid pattern using asterisks (*) with the specified height.\n",
        "\n",
        "Sample output:\n",
        "```\n",
        "Enter the height of the inverted pyramid: 5\n",
        "*********\n",
        " *******\n",
        "  *****\n",
        "   ***\n",
        "    *\n",
        "```"
      ]
    },
    {
      "cell_type": "code",
      "execution_count": null,
      "metadata": {
        "id": "Jh5UbWKXVcn6"
      },
      "outputs": [],
      "source": [
        "n = int(input(\"Enter a number: \"))\n",
        "print(\"Enter a number: \", n)\n",
        "\n",
        "for i in range(n, 0, -1):\n",
        "    print(\" \" * (n - i), end=\"\")\n",
        "    print(\"*\" * (2 * i - 1))"
      ]
    },
    {
      "cell_type": "markdown",
      "metadata": {
        "id": "gynSPw5NVfYl"
      },
      "source": [
        "## Vowel Count with Break Statement\n",
        "Write a program that takes a string which serves as the `word`. Count the number of vowels in the `word` using a loop. If the letter `'x'` or `'X'` is encountered, the program should stop counting and display the message `\"Vowel count stopped!\".`\n",
        "\n",
        "Sample output 1:\n",
        "```\n",
        "Enter a word: codeXchum\n",
        "Vowel count stopped!\n",
        "Number of vowels: 2\n",
        "```\n",
        "Sample output 2:\n",
        "```\n",
        "Enter a word: helloworld!\n",
        "Number of vowels: 3\n",
        "```"
      ]
    },
    {
      "cell_type": "code",
      "execution_count": null,
      "metadata": {
        "id": "35fRwdJxV20z"
      },
      "outputs": [],
      "source": [
        "word = input(\"Enter a word: \")\n",
        "print(\"Enter a word: \" + word) \n",
        "\n",
        "vowels = \"aeiouAEIOU\"\n",
        "count = 0\n",
        "stopped = False\n",
        "\n",
        "for ch in word:\n",
        "    if ch == 'x' or ch == 'X':\n",
        "        print(\"Vowel count stopped!\")\n",
        "        stopped = True\n",
        "        break\n",
        "    if ch in vowels:\n",
        "        count += 1\n",
        "\n",
        "print(\"Number of vowels:\", count)\n"
      ]
    },
    {
      "cell_type": "markdown",
      "metadata": {
        "id": "GtsmGtXWV7yv"
      },
      "source": [
        "## Fibonacci Number Generator\n",
        "Write a program that takes an integer `limit`. Generate and print the Fibonacci sequence up to the given limit. However, if a number in the sequence exceeds 500, the program should break out of the loop and print `\"Fibonacci limit exceeded!\".`\n",
        "\n",
        "Sample output 1:\n",
        "```\n",
        "Enter the limit: 1000\n",
        "0 1 1 2 3 5 8 13 21 34 55 89 144 233 377 610\n",
        "Fibonacci limit exceeded!\n",
        "```\n",
        "Sample output 2:\n",
        "```\n",
        "Enter the limit: 500\n",
        "0 1 1 2 3 5 8 13 21 34 55 89 144 233 377\n",
        "```"
      ]
    },
    {
      "cell_type": "code",
      "execution_count": null,
      "metadata": {
        "id": "dD940eUVWTHm"
      },
      "outputs": [],
      "source": [
        "limit = int(input(\"Enter the limit: \"))\n",
        "print(\"Enter the limit: \", limit)\n",
        "a, b = 0, 1\n",
        "\n",
        "while a <= limit:\n",
        "    print(a, end=\" \")\n",
        "    a, b = b, a + b\n",
        "    \n",
        "    if a > 500:\n",
        "        print(\"\\nFibonacci limit exceeded!\")\n",
        "        break"
      ]
    },
    {
      "cell_type": "markdown",
      "metadata": {
        "id": "r_z_sdUAWXh_"
      },
      "source": [
        "## Letter Printer\n",
        "Write a program that uses a loop to print the letters of the alphabet from 'A' to 'Z' but skips the letter `'E'`. Use `continue` keyword in the loop.\n",
        "\n",
        "Sample output:\n",
        "```\n",
        "A B C D F G H I J K L M N O P Q R S T U V W X Y Z\n",
        "```"
      ]
    },
    {
      "cell_type": "code",
      "execution_count": null,
      "metadata": {
        "id": "y0_jYb-oWoaE"
      },
      "outputs": [],
      "source": [
        "for ch in range(ord('A'), ord('Z') + 1):\n",
        "    if chr(ch) == 'E':\n",
        "        continue\n",
        "    print(chr(ch), end=\" \")"
      ]
    },
    {
      "cell_type": "markdown",
      "metadata": {
        "id": "v-bm8LPdWqyS"
      },
      "source": [
        "## Counting Vowels in a Word\n",
        "Write a program that takes a string. Use a loop to count and print the number of uppercased and lowercased vowels in the word. The program should utilize the `continue` statement to skip consonants, ensuring they are not included in the vowel count.\n",
        "\n",
        "Sample ouput 1:\n",
        "```\n",
        "Enter a word: CONTINUEstatement\n",
        "Number of Uppercase Vowels: 4\n",
        "Number of Lowercase Vowels: 3\n",
        "```\n",
        "\n",
        "Sample output 2:\n",
        "```\n",
        "Enter a word: testing\n",
        "Number of Uppercase Vowels: 0\n",
        "Number of Lowercase Vowels: 2\n",
        "```"
      ]
    },
    {
      "cell_type": "code",
      "execution_count": null,
      "metadata": {},
      "outputs": [],
      "source": [
        "word = input(\"Enter a word: \")\n",
        "print(\"Enter a word:\" + word)\n",
        "\n",
        "uppercase_vowels = \"AEIOU\"\n",
        "lowercase_vowels = \"aeiou\"\n",
        "\n",
        "count_upper = 0\n",
        "count_lower = 0\n",
        "\n",
        "for ch in word:\n",
        "    if ch not in uppercase_vowels and ch not in lowercase_vowels:\n",
        "        continue\n",
        "    if ch in uppercase_vowels:\n",
        "        count_upper += 1\n",
        "    elif ch in lowercase_vowels:\n",
        "        count_lower += 1\n",
        "\n",
        "print(\"Number of Uppercase Vowels:\", count_upper)\n",
        "print(\"Number of Lowercase Vowels:\", count_lower)\n"
      ]
    },
    {
      "cell_type": "markdown",
      "metadata": {
        "id": "fkFYzKbHW7_Y"
      },
      "source": [
        "# 7. Lists"
      ]
    },
    {
      "cell_type": "markdown",
      "metadata": {
        "id": "HlXafrXgXAqG"
      },
      "source": [
        "## Prime Square\n",
        "Write a Python program that takes an integer n and generates a list of n sub-lists, each containing n elements. The value of each element should be 1 if the index of that element is a prime number, and 0 otherwise.\n",
        "\n",
        "Sample output 1:\n",
        "```\n",
        "Enter the value of n: 2\n",
        "Prime Square:\n",
        "[[0, 1], [1, 0]]\n",
        "```\n",
        "\n",
        "Sample output 2:\n",
        "```\n",
        "Enter the value of n: 4\n",
        "Prime Square:\n",
        "[[0, 1, 1, 0], [1, 0, 1, 0], [0, 0, 1, 0], [1, 0, 0, 0]]\n",
        "```"
      ]
    },
    {
      "cell_type": "code",
      "execution_count": null,
      "metadata": {
        "id": "e3iU5nEEXVBQ"
      },
      "outputs": [],
      "source": [
        "n = int(input(\"Enter the value of n: \"))\n",
        "print(\"Enter the value of n:\", n)\n",
        "\n",
        "def is_prime(num):\n",
        "    if num < 2:\n",
        "        return False\n",
        "    if num % 2 == 0:\n",
        "        return num == 2\n",
        "    limit = int(num ** 0.5)\n",
        "    for d in range(3, limit + 1, 2):\n",
        "        if num % d == 0:\n",
        "            return False\n",
        "    return True\n",
        "\n",
        "prime_square = []\n",
        "for i in range(n):\n",
        "    row = []\n",
        "    for j in range(n):\n",
        "        idx = i * n + j + 1       \n",
        "        row.append(1 if is_prime(idx) else 0)\n",
        "    prime_square.append(row)\n",
        "\n",
        "print(\"Prime Square:\")\n",
        "print(prime_square)"
      ]
    },
    {
      "cell_type": "markdown",
      "metadata": {
        "id": "lGuqo0ZSXX7n"
      },
      "source": [
        "## List Reversal\n",
        "Write a Python program that takes a list of integers as input from the user through the terminal, reverses the order of the elements in the list, and outputs the reversed list to the terminal.\n",
        "\n",
        "Sample output 1:\n",
        "```\n",
        "Enter the list of integers separated by space: 5 4 3 2 1\n",
        "Reversed list: [1, 2, 3, 4, 5]\n",
        "```\n",
        "Sample output 2:\n",
        "```\n",
        "Enter the list of integers separated by space: 5 1 5 1\n",
        "Reversed list: [1, 5, 1, 5]\n",
        "```"
      ]
    },
    {
      "cell_type": "code",
      "execution_count": null,
      "metadata": {
        "id": "-LR7jDH8Xh16"
      },
      "outputs": [],
      "source": [
        "user_input = input(\"Enter the list of integers separated by space: \")\n",
        "print(\"Enter the list of integers separated by space: \", user_input)\n",
        "\n",
        "numbers = list(map(int, user_input.split()))\n",
        "reversed_list = numbers[::-1]\n",
        "print(\"Reversed list:\", reversed_list)"
      ]
    },
    {
      "cell_type": "markdown",
      "metadata": {
        "id": "R79WjN__Xkr7"
      },
      "source": [
        "## List Zipper Merge\n",
        "Write a Python program that takes two lists of integers as input and prints a single list that alternates between the elements of the two input lists.\n",
        "\n",
        "Sample output 1:\n",
        "```\n",
        "Enter first list: 1 2 3\n",
        "Enter second list: 4 5 6\n",
        "Merged list: [1, 4, 2, 5, 3, 6]\n",
        "```\n",
        "\n",
        "Sample output 2:\n",
        "```\n",
        "Enter first list: 1 1 1\n",
        "Enter second list: 2 3 4\n",
        "Merged list: [1, 2, 1, 3, 1, 4]\n",
        "```"
      ]
    },
    {
      "cell_type": "code",
      "execution_count": null,
      "metadata": {
        "id": "p9jPKNIcXxjh"
      },
      "outputs": [],
      "source": [
        "list1 = list(map(int, input(\"Enter first list: \").split()))\n",
        "list2 = list(map(int, input(\"Enter second list: \").split()))\n",
        "\n",
        "print(\"Enter first list: \", list1)\n",
        "print(\"Enter second list: \", list2)\n",
        "\n",
        "merged_list = []\n",
        "\n",
        "for a, b in zip(list1, list2):\n",
        "    merged_list.append(a)\n",
        "    merged_list.append(b)\n",
        "\n",
        "print(\"Merged list:\", merged_list)"
      ]
    },
    {
      "cell_type": "markdown",
      "metadata": {
        "id": "GWSVsQzNX0st"
      },
      "source": [
        "## Perfect Square List\n",
        "Write a Python program that takes a list of integers as input and it should generate a list of all perfect squares in the list.\n",
        "\n",
        "Sample output 1:\n",
        "```\n",
        "Enter a list of integers separated by spaces: 1 2 3 4 5 6 7 8 9 10\n",
        "Perfect Squares in the List:\n",
        "[1, 4, 9]\n",
        "```\n",
        "Sample output 2:\n",
        "```\n",
        "Enter a list of integers separated by spaces: 34\n",
        "Perfect Squares in the List:\n",
        "[]\n",
        "```"
      ]
    },
    {
      "cell_type": "code",
      "execution_count": null,
      "metadata": {
        "id": "TJC4jhRHYO5F"
      },
      "outputs": [],
      "source": [
        "import math\n",
        "\n",
        "numbers = list(map(int, input(\"Enter a list of integers separated by spaces: \").split()))\n",
        "\n",
        "perfect_squares = []\n",
        "\n",
        "for num in numbers:\n",
        "    if num >= 0:\n",
        "        root = int(math.sqrt(num))\n",
        "        if root * root == num:\n",
        "            perfect_squares.append(num)\n",
        "\n",
        "print(\"Perfect Squares in the List:\")\n",
        "print(perfect_squares)"
      ]
    },
    {
      "cell_type": "markdown",
      "metadata": {
        "id": "VHRs6jd2YSV8"
      },
      "source": [
        "## List Rotation\n",
        "Write a Python program that takes a list of integers as input and rotates the list to the right by a specified number of positions. The program should return the rotated list.\n",
        "\n",
        "Sample output 1:\n",
        "```\n",
        "Enter the list of integers separated by space: 1 2 3\n",
        "Enter the number of positions to rotate to the right: 2\n",
        "[2, 3, 1]\n",
        "```\n",
        "Sample output 2:\n",
        "```\n",
        "Enter the list of integers separated by space: 1 2 3 4 5\n",
        "Enter the number of positions to rotate to the right: 3\n",
        "[3, 4, 5, 1, 2]\n",
        "```\n",
        "Sample output 3:\n",
        "```\n",
        "Enter the list of integers separated by space: 5 5 5 1 5 5 5\n",
        "Enter the number of positions to rotate to the right: 4\n",
        "[1, 5, 5, 5, 5, 5, 5]\n",
        "```"
      ]
    },
    {
      "cell_type": "code",
      "execution_count": null,
      "metadata": {
        "id": "9py7BWk5YhoC"
      },
      "outputs": [],
      "source": [
        "nums = list(map(int, input(\"Enter the list of integers separated by space: \").split()))\n",
        "k = int(input(\"Enter the number of positions to rotate to the right: \"))\n",
        "\n",
        "n = len(nums)\n",
        "k = k % n \n",
        "rotated = nums[-k:] + nums[:-k]\n",
        "\n",
        "print(rotated)"
      ]
    },
    {
      "cell_type": "markdown",
      "metadata": {
        "id": "nm4xS-M0Zuyn"
      },
      "source": [
        "## List Intersection\n",
        "Write a program that takes two lists as inputs and prints a new list containing only the common elements between the two lists. The program should print the common elements in the order they appear in the first list.\n",
        "\n",
        "Sample output 1:\n",
        "```\n",
        "Enter first list of integers separated by space: 1 2 3\n",
        "Enter second list of integers separated by space: 2 3 4\n",
        "Common elements:  [2, 3]\n",
        "```\n",
        "Sample output 2:\n",
        "```\n",
        "Enter first list of integers separated by space: 1 2 3\n",
        "Enter second list of integers separated by space: 4 5 6\n",
        "Common elements:  []\n",
        "```\n",
        "Sample output 3:\n",
        "```\n",
        "Enter first list of integers separated by space: 1 2 3\n",
        "Enter second list of integers separated by space: 12 3\n",
        "Common elements:  [3]\n",
        "```"
      ]
    },
    {
      "cell_type": "code",
      "execution_count": null,
      "metadata": {
        "id": "KTftGnLEZ_SN"
      },
      "outputs": [],
      "source": [
        "list1 = list(map(int, input(\"Enter first list of integers separated by space: \").split()))\n",
        "list2 = list(map(int, input(\"Enter second list of integers separated by space: \").split()))\n",
        "\n",
        "common = [x for x in list1 if x in list2]\n",
        "print(\"Common elements: \", common)"
      ]
    },
    {
      "cell_type": "markdown",
      "metadata": {
        "id": "CpKgkF_maB40"
      },
      "source": [
        "## Fibonacci Series\n",
        "Write a Python program that takes a number n as input and prints a list of the first n numbers in the Fibonacci series.\n",
        "\n",
        "Sample output 1:\n",
        "```\n",
        "Enter the number of terms for Fibonacci series: 5\n",
        "Fibonacci Series: [0, 1, 1, 2, 3]\n",
        "```\n",
        "Sample output 2:\n",
        "```\n",
        "Enter the number of terms for Fibonacci series: 7\n",
        "Fibonacci Series: [0, 1, 1, 2, 3, 5, 8]\n",
        "```"
      ]
    },
    {
      "cell_type": "code",
      "execution_count": null,
      "metadata": {
        "id": "3qkXwsYjaNpI"
      },
      "outputs": [],
      "source": [
        "n = int(input(\"Enter the number of terms for Fibonacci series: \"))\n",
        "\n",
        "fibonacci = []\n",
        "\n",
        "a, b = 0, 1\n",
        "for _ in range(n):\n",
        "    fibonacci.append(a)\n",
        "    a, b = b, a + b\n",
        "\n",
        "print(\"Fibonacci Series:\", fibonacci)"
      ]
    },
    {
      "cell_type": "markdown",
      "metadata": {
        "id": "zeqwM7tdaQNk"
      },
      "source": [
        "## List Unique Elements\n",
        "Write a Python program that takes a list of integers as input and returns a new list containing only the unique elements of the input list.\n",
        "\n",
        "Sample output:\n",
        "```\n",
        "Enter a list of integers separated by space: 1 1 2 3 3 4\n",
        "Unique elements list: [1, 2, 3, 4]\n",
        "```"
      ]
    },
    {
      "cell_type": "code",
      "execution_count": null,
      "metadata": {
        "id": "Yx3cJ3OhabUP"
      },
      "outputs": [],
      "source": [
        "numbers = list(map(int, input(\"Enter a list of integers separated by space: \").split()))\n",
        "\n",
        "unique_list = []\n",
        "for num in numbers:\n",
        "    if num not in unique_list:\n",
        "        unique_list.append(num)\n",
        "\n",
        "print(\"Unique elements list:\", unique_list)"
      ]
    },
    {
      "cell_type": "markdown",
      "metadata": {
        "id": "_M5nu-Esaed7"
      },
      "source": [
        "## Remove Nth Element\n",
        "Write a Python program that takes a list of integers and an integer n as input and removes the nth element from the list.\n",
        "\n",
        "Sample output 1:\n",
        "```\n",
        "Enter the numbers separated by space: 1 2 3 4 5\n",
        "Enter the index of element to remove (1-based index): 3\n",
        "List after removing element: [1, 2, 4, 5]\n",
        "```\n",
        "Sample output 2:\n",
        "```\n",
        "Enter the numbers separated by space: 10 40 50 12 141 15 1568 12 13124\n",
        "Enter the index of element to remove (1-based index): 5\n",
        "List after removing element: [10, 40, 50, 12, 15, 1568, 12, 13124]\n",
        "```"
      ]
    },
    {
      "cell_type": "code",
      "execution_count": null,
      "metadata": {
        "id": "Kya5M-a4arUv"
      },
      "outputs": [],
      "source": [
        "numbers = list(map(int, input(\"Enter the numbers separated by space: \").split()))\n",
        "n = int(input(\"Enter the index of element to remove (1-based index): \"))\n",
        "\n",
        "if 1 <= n <= len(numbers):\n",
        "    numbers.pop(n - 1) \n",
        "    print(\"List after removing element:\", numbers)\n",
        "else:\n",
        "    print(\"Invalid index!\")"
      ]
    },
    {
      "cell_type": "markdown",
      "metadata": {
        "id": "DVd1u8_yavWP"
      },
      "source": [
        "## List Maximum Difference\n",
        "Write a Python program that takes a list of integers as input and returns the maximum difference between any two elements in the list.\n",
        "\n",
        "Sample output 1:\n",
        "```\n",
        "Enter a list of integers separated by space: 1 2 3 4 5\n",
        "Maximum difference between any two elements in the list: 4\n",
        "```\n",
        "Sample output 2:\n",
        "```\n",
        "Enter a list of integers separated by space: 5 10 15 20 30\n",
        "Maximum difference between any two elements in the list: 25\n",
        "```\n",
        "Sample output 3:\n",
        "```\n",
        "Enter a list of integers separated by space: 1 2\n",
        "Maximum difference between any two elements in the list: 1\n",
        "```"
      ]
    },
    {
      "cell_type": "code",
      "execution_count": null,
      "metadata": {
        "id": "RLwQjhjpa-Gz"
      },
      "outputs": [],
      "source": [
        "numbers = list(map(int, input(\"Enter a list of integers separated by space: \").split()))\n",
        "\n",
        "if len(numbers) < 2:\n",
        "    print(\"List must contain at least two numbers.\")\n",
        "else:\n",
        "    max_diff = max(numbers) - min(numbers)\n",
        "    print(\"Maximum difference between any two elements in the list:\", max_diff)"
      ]
    },
    {
      "cell_type": "markdown",
      "metadata": {
        "id": "_RCapjKxYkkj"
      },
      "source": [
        "# 8. Tuples"
      ]
    },
    {
      "cell_type": "markdown",
      "metadata": {
        "id": "weXUBLkuYm4B"
      },
      "source": [
        "## Tuple Subtraction\n",
        "Given two tuples `a` and `b` of the same length, create a function that returns a new tuple containing the result of subtracting each element of `b` from the corresponding element of `a`.\n",
        "\n",
        "Sample output 1:\n",
        "```\n",
        "Enter the first tuple of integers: 1 2 3\n",
        "Enter the second tuple of integers: 1 1 1\n",
        "Tuple Subtraction Result: (0, 1, 2)\n",
        "```\n",
        "Sample output 2:\n",
        "```\n",
        "Enter the first tuple of integers: 5 10 15\n",
        "Enter the second tuple of integers: 2 5 8\n",
        "Tuple Subtraction Result: (3, 5, 7)\n",
        "```\n",
        "Sample output 3:\n",
        "```\n",
        "Enter the first tuple of integers: 0 0 0\n",
        "Enter the second tuple of integers: 1 1 1\n",
        "Tuple Subtraction Result: (-1, -1, -1)\n",
        "```"
      ]
    },
    {
      "cell_type": "code",
      "execution_count": null,
      "metadata": {
        "id": "m6fT9Vy1b1g-"
      },
      "outputs": [],
      "source": [
        "a = tuple(map(int, input(\"Enter the first tuple of integers: \").split()))\n",
        "b = tuple(map(int, input(\"Enter the second tuple of integers: \").split()))\n",
        "\n",
        "def tuple_subtraction(a, b):\n",
        "    return tuple(x - y for x, y in zip(a, b))\n",
        "\n",
        "if len(a) != len(b):\n",
        "    print(\"Error: Tuples must be of the same length.\")\n",
        "else:\n",
        "    result = tuple_subtraction(a, b)\n",
        "    print(\"Tuple Subtraction Result:\", result)"
      ]
    },
    {
      "cell_type": "markdown",
      "metadata": {
        "id": "Jcm2uQbEb4If"
      },
      "source": [
        "## Slicing Tuples\n",
        "Create a tuple with the elements `(10, 20, 30, 40, 50, 60, 70, 80, 90)`. Print a slice of the tuple from the third to the seventh element.\n",
        "\n",
        "Sample output:\n",
        "```\n",
        "Sliced Tuple: (30, 40, 50, 60, 70)\n",
        "```"
      ]
    },
    {
      "cell_type": "code",
      "execution_count": null,
      "metadata": {
        "id": "1ZXolZNrcEkm"
      },
      "outputs": [],
      "source": [
        "t = (10, 20, 30, 40, 50, 60, 70, 80, 90)\n",
        "sliced_tuple = t[2:7]\n",
        "\n",
        "print(\"Sliced Tuple:\", sliced_tuple)"
      ]
    },
    {
      "cell_type": "markdown",
      "metadata": {
        "id": "U_-4QAUocH3Z"
      },
      "source": [
        "## Check for Element in Tuple\n",
        "Create a tuple with the elements `(100, 200, 300, 400, 500)`. Ask the user to input a number and check if this number is present in the tuple. Print the result.\n",
        "\n",
        "Sample output 1:\n",
        "```\n",
        "Enter a number: 100\n",
        "Is the number in the tuple? True\n",
        "```\n",
        "Sample output 2:\n",
        "```\n",
        "Enter a number: -100\n",
        "Is the number in the tuple? False\n",
        "```"
      ]
    },
    {
      "cell_type": "code",
      "execution_count": null,
      "metadata": {
        "id": "r2UPaKnqcfKZ"
      },
      "outputs": [],
      "source": [
        "num = int(input(\"Enter a number: \"))\n",
        "\n",
        "t = (100, 200, 300, 400, 500)\n",
        "result = num in t\n",
        "\n",
        "print(\"Is the number in the tuple?\", result)"
      ]
    },
    {
      "cell_type": "markdown",
      "metadata": {
        "id": "-6EquMQHcjF-"
      },
      "source": [
        "## Tuple for Tuples\n",
        "Write a program that asks to input two sets of numbers separated by spaces. Create two tuples from these numbers and then create a tuple of these two tuples. Print the resulting tuple of tuples.\n",
        "\n",
        "Sample output 1:\n",
        "```\n",
        "Enter first set of numbers separated by spaces: 1 5 6 7 8\n",
        "Enter second set of numbers separated by spaces: 2 3 5 1 3\n",
        "Tuple of Tuples: ((1, 5, 6, 7, 8), (2, 3, 5, 1, 3))\n",
        "```\n",
        "Sample output 2:\n",
        "```\n",
        "Enter first set of numbers separated by spaces: 0 1 2\n",
        "Enter second set of numbers separated by spaces: -1 -2 -3\n",
        "Tuple of Tuples: ((0, 1, 2), (-1, -2, -3))\n",
        "```\n",
        "Sample output 3:\n",
        "```\n",
        "Enter first set of numbers separated by spaces: 9 9 9 9\n",
        "Enter second set of numbers separated by spaces: 8 8 8 8\n",
        "Tuple of Tuples: ((9, 9, 9, 9), (8, 8, 8, 8))\n",
        "```"
      ]
    },
    {
      "cell_type": "code",
      "execution_count": null,
      "metadata": {
        "id": "QKgHW5bdcwVf"
      },
      "outputs": [],
      "source": [
        "first_input = input(\"Enter first set of numbers separated by spaces: \")\n",
        "second_input = input(\"Enter second set of numbers separated by spaces: \")\n",
        "\n",
        "tuple1 = tuple(map(int, first_input.split()))\n",
        "tuple2 = tuple(map(int, second_input.split()))\n",
        "\n",
        "result = (tuple1, tuple2)\n",
        "print(\"Tuple of Tuples:\", result)"
      ]
    },
    {
      "cell_type": "markdown",
      "metadata": {
        "id": "1Ks7eMzncvjl"
      },
      "source": [
        "## Zipping Tuples\n",
        "Write a program that asks to input two sets of numbers separated by spaces. Create two tuples from these numbers and zip them together to create a tuple of pairs. Print the resulting zipped tuple.\n",
        "\n",
        "Sample output 1:\n",
        "```\n",
        "Enter first set of numbers separated by spaces: 213 1254 125 125 125 125\n",
        "Enter second set of numbers separated by spaces: 123 125 51 25 25\n",
        "Zipped Tuple: ((213, 123), (1254, 125), (125, 51), (125, 25), (125, 25))\n",
        "```\n",
        "Sample output 2:\n",
        "```\n",
        "Enter first set of numbers separated by spaces: 1 2 3 4\n",
        "Enter second set of numbers separated by spaces: 1 2 3 4\n",
        "Zipped Tuple: ((1, 1), (2, 2), (3, 3), (4, 4))\n",
        "```\n",
        "Sample output 3:\n",
        "```\n",
        "Enter first set of numbers separated by spaces: 1 2 3\n",
        "Enter second set of numbers separated by spaces: -1 -2 -3\n",
        "Zipped Tuple: ((1, -1), (2, -2), (3, -3))\n",
        "```"
      ]
    },
    {
      "cell_type": "code",
      "execution_count": null,
      "metadata": {
        "id": "MCv5wIKRdFCE"
      },
      "outputs": [],
      "source": [
        "first_input = input(\"Enter first set of numbers separated by spaces: \")\n",
        "second_input = input(\"Enter second set of numbers separated by spaces: \")\n",
        "\n",
        "tuple1 = tuple(map(int, first_input.split()))\n",
        "tuple2 = tuple(map(int, second_input.split()))\n",
        "\n",
        "zipped = tuple(zip(tuple1, tuple2))\n",
        "print(\"Zipped Tuple:\", zipped)"
      ]
    },
    {
      "cell_type": "markdown",
      "metadata": {
        "id": "NkroSQaPdJel"
      },
      "source": [
        "## Tuple Complement\n",
        "Given a tuple `a` and a number `n`, create a program that prints a new tuple containing all numbers from 1 to `n` that are not in the original tuple.\n",
        "\n",
        "Sample output 1:\n",
        "```\n",
        "Enter a tuple of integers: 1 3 5 7\n",
        "Enter the value of n: 10\n",
        "Tuple Complement: (2, 4, 6, 8, 9, 10)\n",
        "```\n",
        "Sample output 2:\n",
        "```\n",
        "Enter a tuple of integers: 5\n",
        "Enter the value of n: 8\n",
        "Tuple Complement: (1, 2, 3, 4, 6, 7, 8)\n",
        "```\n",
        "Sample output 3:\n",
        "```\n",
        "Enter a tuple of integers: 1 2 3 4 5\n",
        "Enter the value of n: 5\n",
        "Tuple Complement: ()\n",
        "```"
      ]
    },
    {
      "cell_type": "code",
      "execution_count": null,
      "metadata": {
        "id": "yfdcOIcBdZwM"
      },
      "outputs": [],
      "source": [
        "a = tuple(map(int, input(\"Enter a tuple of integers: \").split()))\n",
        "n = int(input(\"Enter the value of n: \"))\n",
        "\n",
        "complement = tuple(i for i in range(1, n + 1) if i not in a)\n",
        "print(\"Tuple Complement:\", complement)"
      ]
    },
    {
      "cell_type": "markdown",
      "metadata": {
        "id": "QLFsC4N8dcqW"
      },
      "source": [
        "## Tuple Operations with Multiple Tuples\n",
        "Write a program that asks to input three sets of numbers separated by spaces. Create three tuples from these numbers. Perform union and intersection operations on these tuples and print the results.\n",
        "\n",
        "Sample output 1:\n",
        "```\n",
        "Enter first set of numbers separated by spaces: 1 2 3\n",
        "Enter second set of numbers separated by spaces: 2 3 4\n",
        "Enter third set of numbers separated by spaces: 3 4 5\n",
        "Union of all three tuples: {1, 2, 3, 4, 5}\n",
        "Intersection of all three tuples: {3}\n",
        "```\n",
        "Sample output 2:\n",
        "```\n",
        "Enter first set of numbers separated by spaces: 10 20 30\n",
        "Enter second set of numbers separated by spaces: 20 30 40\n",
        "Enter third set of numbers separated by spaces: 30 40 50\n",
        "Union of all three tuples: {50, 20, 40, 10, 30}\n",
        "Intersection of all three tuples: {30}\n",
        "```\n",
        "Sample output 3:\n",
        "```\n",
        "Enter first set of numbers separated by spaces: 5 10 15\n",
        "Enter second set of numbers separated by spaces: 10 15 20\n",
        "Enter third set of numbers separated by spaces: 15 20 25\n",
        "Union of all three tuples: {20, 5, 25, 10, 15}\n",
        "Intersection of all three tuples: {15}\n",
        "```"
      ]
    },
    {
      "cell_type": "code",
      "execution_count": null,
      "metadata": {
        "id": "awQ-QopydvOS"
      },
      "outputs": [],
      "source": [
        "a = tuple(map(int, input(\"Enter first set of numbers separated by spaces: \").split()))\n",
        "b = tuple(map(int, input(\"Enter second set of numbers separated by spaces: \").split()))\n",
        "c = tuple(map(int, input(\"Enter third set of numbers separated by spaces: \").split()))\n",
        "\n",
        "set_a, set_b, set_c = set(a), set(b), set(c)\n",
        "union_result = set_a | set_b | set_c\n",
        "intersection_result = set_a & set_b & set_c\n",
        "\n",
        "print(\"Union of all three tuples:\", union_result)\n",
        "print(\"Intersection of all three tuples:\", intersection_result)"
      ]
    },
    {
      "cell_type": "markdown",
      "metadata": {
        "id": "N_XfQz-0dy-U"
      },
      "source": [
        "## Finding Common Elements in Multiple Tuples\n",
        "Write a program that asks to input three sets of numbers separated by spaces. Create three tuples from these numbers. Find and print the common elements among all three tuples.\n",
        "\n",
        "Sample output 1:\n",
        "```\n",
        "Enter first set of numbers separated by spaces: 2 4 6 8\n",
        "Enter second set of numbers separated by spaces: 4 6 8 10\n",
        "Enter third set of numbers separated by spaces: 6 8 10 12\n",
        "Common elements in all three tuples: {8, 6}\n",
        "```\n",
        "Sample output 2:\n",
        "```\n",
        "Enter first set of numbers separated by spaces: 3 6 9\n",
        "Enter second set of numbers separated by spaces: 6 9 12\n",
        "Enter third set of numbers separated by spaces: 9 12 15\n",
        "Common elements in all three tuples: {9}\n",
        "```\n",
        "Sample output 3:\n",
        "```\n",
        "Enter first set of numbers separated by spaces: 1 1 2 3 5\n",
        "Enter second set of numbers separated by spaces: 1 2 3 5 8\n",
        "Enter third set of numbers separated by spaces: 1 3 5 7 9\n",
        "Common elements in all three tuples: {1, 3, 5}\n",
        "```"
      ]
    },
    {
      "cell_type": "code",
      "execution_count": null,
      "metadata": {
        "id": "wsMFkzmfgvQL"
      },
      "outputs": [],
      "source": [
        "a = tuple(map(int, input(\"Enter first set of numbers separated by spaces: \").split()))\n",
        "b = tuple(map(int, input(\"Enter second set of numbers separated by spaces: \").split()))\n",
        "c = tuple(map(int, input(\"Enter third set of numbers separated by spaces: \").split()))\n",
        "\n",
        "set_a, set_b, set_c = set(a), set(b), set(c)\n",
        "common_elements = set_a & set_b & set_c\n",
        "print(\"Common elements in all three tuples:\", common_elements)"
      ]
    },
    {
      "cell_type": "markdown",
      "metadata": {
        "id": "4-6BjD0Qg8Pb"
      },
      "source": [
        "## Tuple Median\n",
        "Write a Python program that takes a tuple containing integers as input and prints the median value of the elements in the tuple.\n",
        "\n",
        "Sample output 1:\n",
        "```\n",
        "Enter a tuple of integers: 11 13 15 17 19 21\n",
        "Tuple Median: 16.0\n",
        "```\n",
        "Sample output 2:\n",
        "```\n",
        "Enter a tuple of integers: 10 20 30 40 67\n",
        "Tuple Median: 30.0\n",
        "```\n",
        "Sample output 3:\n",
        "```\n",
        "Enter a tuple of integers: 1 2 3 4 5\n",
        "Tuple Median: 3.0\n",
        "```"
      ]
    },
    {
      "cell_type": "code",
      "execution_count": null,
      "metadata": {
        "id": "lKHxEFgihbzr"
      },
      "outputs": [],
      "source": [
        "numbers = tuple(map(int, input(\"Enter a tuple of integers: \").split()))\n",
        "\n",
        "sorted_nums = sorted(numbers)\n",
        "n = len(sorted_nums)\n",
        "\n",
        "if n % 2 == 1:\n",
        "    median = float(sorted_nums[n // 2])\n",
        "else:  \n",
        "    mid1, mid2 = sorted_nums[n // 2 - 1], sorted_nums[n // 2]\n",
        "    median = (mid1 + mid2) / 2\n",
        "\n",
        "print(\"Tuple Median:\", median)"
      ]
    },
    {
      "cell_type": "markdown",
      "metadata": {
        "id": "kHnZOb6nhdiO"
      },
      "source": [
        "## Finding the Length of a Tuple\n",
        "Write a program that asks to input several elements separated by spaces. Create a tuple from these elements and print the length of the tuple.\n",
        "\n",
        "Sample output:\n",
        "```\n",
        "Enter elements separated by spaces: 1 2 3 4 5 6\n",
        "Length of Tuple: 6\n",
        "```"
      ]
    },
    {
      "cell_type": "code",
      "execution_count": null,
      "metadata": {
        "id": "LHA4wACWhpuy"
      },
      "outputs": [],
      "source": [
        "elements = input(\"Enter elements separated by spaces: \").split()\n",
        "\n",
        "my_tuple = tuple(elements)\n",
        "print(\"Length of Tuple:\", len(my_tuple))"
      ]
    },
    {
      "cell_type": "markdown",
      "metadata": {
        "id": "3DWJiRINhqMp"
      },
      "source": [
        "# 9. Sets"
      ]
    },
    {
      "cell_type": "markdown",
      "metadata": {
        "id": "FcwcAXbTy8tF"
      },
      "source": [
        "## Adding Elements\n",
        "Write a program that adds the element 6 to the set `{1, 2, 3, 4, 5}` and print the result.\n",
        "\n",
        "Sample output:\n",
        "```\n",
        "Initial set: {1, 2, 3, 4, 5}\n",
        "Final set: {1, 2, 3, 4, 5, 6}\n",
        "```"
      ]
    },
    {
      "cell_type": "code",
      "execution_count": null,
      "metadata": {
        "id": "G5B7Vx4dzEbM"
      },
      "outputs": [],
      "source": [
        "my_set = {1, 2, 3, 4, 5}\n",
        "print(\"Initial set:\", my_set)\n",
        "my_set.add(6)\n",
        "\n",
        "print(\"Final set:\", my_set)"
      ]
    },
    {
      "cell_type": "markdown",
      "metadata": {
        "id": "XEFwz8QFiMDL"
      },
      "source": [
        "## Common Elements\n",
        "Write a program that has sets, `A = {1, 2, 3, 4}`, `B = {3, 4, 5, 6}`, and `C = {4, 5, 6, 7}`, print the sets and find the common elements present in all three sets, and print the result.\n",
        "\n",
        "Sample output:\n",
        "```\n",
        "A: {1, 2, 3, 4}\n",
        "B: {3, 4, 5, 6}\n",
        "C: {4, 5, 6, 7}\n",
        "Common elements in all three sets: {4}\n",
        "```"
      ]
    },
    {
      "cell_type": "code",
      "execution_count": null,
      "metadata": {
        "id": "YK_EM8AoxVx0"
      },
      "outputs": [],
      "source": [
        "A = {1, 2, 3, 4}\n",
        "B = {3, 4, 5, 6}\n",
        "C = {4, 5, 6, 7}\n",
        "\n",
        "print(\"A:\", A)\n",
        "print(\"B:\", B)\n",
        "print(\"C:\", C)\n",
        "\n",
        "common = A & B & C\n",
        "print(\"Common elements in all three sets:\", common)"
      ]
    },
    {
      "cell_type": "markdown",
      "metadata": {
        "id": "Hb3doMpJ6X0H"
      },
      "source": [
        "## Set Equality\n",
        "\n",
        "Write a program that takes two sets as input and prints `\"The sets are equal\"` if they are equal (i.e., have the same elements), otherwise, `it prints \"The sets are not equal\".`\n",
        "\n",
        "Sample output 1:\n",
        "```\n",
        "Enter the first set: 1 2 3\n",
        "Enter the second set: 3 1 2\n",
        "The sets are equal\n",
        "```\n",
        "Sample output 2:\n",
        "```\n",
        "Enter the first set: 1 4 3\n",
        "Enter the second set: 2 1 4\n",
        "The sets are not equal\n",
        "```\n"
      ]
    },
    {
      "cell_type": "code",
      "execution_count": null,
      "metadata": {
        "id": "dsoSzUPn6kQH"
      },
      "outputs": [],
      "source": [
        "set1 = set(map(int, input(\"Enter the first set: \").split()))\n",
        "set2 = set(map(int, input(\"Enter the second set: \").split()))\n",
        "\n",
        "if set1 == set2:\n",
        "    print(\"The sets are equal\")\n",
        "else:\n",
        "    print(\"The sets are not equal\")"
      ]
    },
    {
      "cell_type": "markdown",
      "metadata": {
        "id": "D-dNWQcAyXqE"
      },
      "source": [
        "## Iterate Over Set\n",
        "\n",
        "Write a program that has a set with elements from numbers 1 to 5. Print the set first, then print the elements of the set each separated by a newline.\n",
        "\n",
        "Sample output:\n",
        "```\n",
        "The set is: {1, 2, 3, 4, 5}\n",
        "Elements of the set:\n",
        "1\n",
        "2\n",
        "3\n",
        "4\n",
        "5\n",
        "```"
      ]
    },
    {
      "cell_type": "code",
      "execution_count": null,
      "metadata": {
        "id": "eB8HbeqJyeq1"
      },
      "outputs": [],
      "source": [
        "my_set = {1, 2, 3, 4, 5}\n",
        "print(\"The set is:\", my_set)\n",
        "\n",
        "print(\"Elements of the set:\")\n",
        "for element in my_set:\n",
        "    print(element)"
      ]
    },
    {
      "cell_type": "markdown",
      "metadata": {
        "id": "GG8uM2E5yixs"
      },
      "source": [
        "## Set Cardinality with Duplicates\n",
        "\n",
        "Write a Python program that takes a set as input and prints the cardinality of the resulting set. Given a list of integers, remove duplicates and print the cardinality of the resulting set.\n",
        "\n",
        "Sample output 1:\n",
        "```\n",
        "Enter a list of integers separated by space: 1 1 1 1 1 1\n",
        "The cardinality of the set formed by removing duplicates from [1, 1, 1, 1, 1, 1] is 1.\n",
        "```\n",
        "Sample output 2:\n",
        "```\n",
        "Enter a list of integers separated by space: 1 2 3 4 4 5\n",
        "The cardinality of the set formed by removing duplicates from [1, 2, 3, 4, 4, 5] is 5.\n",
        "```\n",
        "Sample output 3:\n",
        "```\n",
        "Enter a list of integers separated by space: 1\n",
        "The cardinality of the set formed by removing duplicates from [1] is 1.\n",
        "```\n"
      ]
    },
    {
      "cell_type": "code",
      "execution_count": null,
      "metadata": {
        "id": "jWWgJT7ly1Pt"
      },
      "outputs": [],
      "source": [
        "nums = list(map(int, input(\"Enter a list of integers separated by space: \").split()))\n",
        "unique_set = set(nums)\n",
        "\n",
        "cardinality = len(unique_set)\n",
        "print(f\"The cardinality of the set formed by removing duplicates from {nums} is {cardinality}.\")"
      ]
    },
    {
      "cell_type": "markdown",
      "metadata": {
        "id": "P1EfBEJQyFWz"
      },
      "source": [
        "## Subset Check\n",
        "Write a program that asks for two sets. Ask for the element of the set in one line and elements separated by spaces. Check if the first set is a subset of the second set and print the result.\n",
        "\n",
        "Sample output 1:\n",
        "```\n",
        "Enter elements of the first set: 1 2\n",
        "Enter elements of the second set: 1 2 3\n",
        "Result: True\n",
        "```\n",
        "Sample output 2:\n",
        "```\n",
        "Enter elements of the first set: 5 10 15 20 25 30\n",
        "Enter elements of the second set: 5 10 15 20 25 30 35 40 45\n",
        "Result: True\n",
        "```\n",
        "Sample output 3:\n",
        "```\n",
        "Enter elements of the first set: -10 -9 -8 -7 -6 -5 -4 -3 -2 -1\n",
        "Enter elements of the second set: 1 2 3 4 5 6 7 8 9 10\n",
        "Result: False\n",
        "```"
      ]
    },
    {
      "cell_type": "code",
      "execution_count": null,
      "metadata": {
        "id": "PziRc_MUySgE"
      },
      "outputs": [],
      "source": [
        "first_set = set(map(int, input(\"Enter elements of the first set: \").split()))\n",
        "second_set = set(map(int, input(\"Enter elements of the second set: \").split()))\n",
        "\n",
        "result = first_set.issubset(second_set)\n",
        "print(\"Result:\", result)"
      ]
    },
    {
      "cell_type": "markdown",
      "metadata": {
        "id": "vFS89iHRxYfL"
      },
      "source": [
        "## Set Is Subset of Any Set\n",
        "Write a Python program that takes in a set and a list of sets and prints `\"Input set is a subset of at least one set in the list.\"` if the set is a subset of any of the sets in the list, otherwise, print `\"Input set is not a subset of any set in the list.\"`\n",
        "\n",
        "Sample output 1:\n",
        "```\n",
        "Enter the number of sets in the list: 4\n",
        "Enter set 1, separated by spaces: 1 2\n",
        "Enter set 2, separated by spaces: 3 4\n",
        "Enter set 3, separated by spaces: 5 6\n",
        "Enter set 4, separated by spaces: 7 8\n",
        "Enter a set of integers, separated by spaces: 3 4\n",
        "Input set is a subset of at least one set in the list.\n",
        "```\n",
        "Sample output 2:\n",
        "```\n",
        "Enter the number of sets in the list: 2\n",
        "Enter set 1, separated by spaces: 1 2 3 4 5\n",
        "Enter set 2, separated by spaces: 6 7 8 9 10\n",
        "Enter a set of integers, separated by spaces: 10 6\n",
        "Input set is a subset of at least one set in the list.\n",
        "```\n",
        "Sample output 3:\n",
        "```\n",
        "Enter the number of sets in the list: 3\n",
        "Enter set 1, separated by spaces: 1 2 3\n",
        "Enter set 2, separated by spaces: 4 5 6\n",
        "Enter set 3, separated by spaces: 7 8 9\n",
        "Enter a set of integers, separated by spaces: 1 4 7\n",
        "Input set is not a subset of any set in the list.\n",
        "```"
      ]
    },
    {
      "cell_type": "code",
      "execution_count": null,
      "metadata": {
        "id": "gWIJD5xDxrB7"
      },
      "outputs": [],
      "source": [
        "n = int(input(\"Enter the number of sets in the list: \"))\n",
        "\n",
        "list_of_sets = []\n",
        "for i in range(1, n + 1):\n",
        "    elements = set(map(int, input(f\"Enter set {i}, separated by spaces: \").split()))\n",
        "    list_of_sets.append(elements)\n",
        "\n",
        "input_set = set(map(int, input(\"Enter a set of integers, separated by spaces: \").split()))\n",
        "is_subset = any(input_set.issubset(s) for s in list_of_sets)\n",
        "\n",
        "if is_subset:\n",
        "    print(\"Input set is a subset of at least one set in the list.\")\n",
        "else:\n",
        "    print(\"Input set is not a subset of any set in the list.\")"
      ]
    },
    {
      "cell_type": "markdown",
      "metadata": {
        "id": "PzEjrut3wGrz"
      },
      "source": [
        "## Union and Intersection\n",
        "Write a program that asks for two sets. Ask for the element of the set in one line and elements separated by spaces. Calculate and print the union and intersection of these sets.\n",
        "\n",
        "Sample output 1:\n",
        "```\n",
        "Enter elements of the first set: 1 2 3 4 5 6 7 8 9 10\n",
        "Enter elements of the second set: 5 6 7 8 9 10 11 12 13 14 15\n",
        "Union: {1, 2, 3, 4, 5, 6, 7, 8, 9, 10, 11, 12, 13, 14, 15}\n",
        "Intersection: {5, 6, 7, 8, 9, 10}\n",
        "```\n",
        "Sample Output 2:\n",
        "```\n",
        "Enter elements of the first set: 1 1 2 2 3 3\n",
        "Enter elements of the second set: 3 3 4 4 5 5\n",
        "Union: {1, 2, 3, 4, 5}\n",
        "Intersection: {3}\n",
        "```\n",
        "Sample output 3:\n",
        "```\n",
        "Enter elements of the first set: -10 -9 -8 -7 -6 -5 -4 -3 -2 -1\n",
        "Enter elements of the second set: 1 2 3 4 5 6 7 8 9 10\n",
        "Union: {1, 2, 3, 4, 5, 6, 7, 8, 9, 10, -10, -9, -8, -7, -6, -5, -4, -3, -2, -1}\n",
        "Intersection: set()\n",
        "```\n"
      ]
    },
    {
      "cell_type": "code",
      "execution_count": null,
      "metadata": {
        "id": "W0kukQAhxBVk"
      },
      "outputs": [],
      "source": [
        "set1 = set(map(int, input(\"Enter elements of the first set: \").split()))\n",
        "set2 = set(map(int, input(\"Enter elements of the second set: \").split()))\n",
        "\n",
        "union_set = set1.union(set2)\n",
        "intersection_set = set1.intersection(set2)\n",
        "\n",
        "print(\"Union:\", union_set)\n",
        "print(\"Intersection:\", intersection_set)"
      ]
    },
    {
      "cell_type": "markdown",
      "metadata": {
        "id": "NoXCpbMw6qY9"
      },
      "source": [
        "## Union and Intersection with Product\n",
        "Write a program to input two sets of integers. Calculate and print the union and intersection of these sets. Also, print the product of the union and the intersection sets.\n",
        "\n",
        "Sample output 1:\n",
        "```\n",
        "Enter elements of the first set: 1 2 3 4 5 6 7 8 9 10\n",
        "Enter elements of the second set: 5 6 7 8 9 10 12\n",
        "Union: {1, 2, 3, 4, 5, 6, 7, 8, 9, 10, 12}\n",
        "Intersection: {5, 6, 7, 8, 9, 10}\n",
        "Product of Union: 43545600\n",
        "Product of Intersection: 151200\n",
        "```\n",
        "Sample output 2:\n",
        "```\n",
        "Enter elements of the first set: 2 1 3\n",
        "Enter elements of the second set: 5 1 2\n",
        "Union: {1, 2, 3, 5}\n",
        "Intersection: {1, 2}\n",
        "Product of Union: 30\n",
        "Product of Intersection: 2\n",
        "```\n",
        "Sample output 3:\n",
        "```\n",
        "Enter elements of the first set: 1 0 -1 -2\n",
        "Enter elements of the second set: 0 1 2 3\n",
        "Union: {0, 1, 2, 3, -2, -1}\n",
        "Intersection: {0, 1}\n",
        "Product of Union: 0\n",
        "Product of Intersection: 0\n",
        "```"
      ]
    },
    {
      "cell_type": "code",
      "execution_count": null,
      "metadata": {
        "id": "4V7vCpvB65um"
      },
      "outputs": [],
      "source": [
        "from math import prod\n",
        "\n",
        "set1 = set(map(int, input(\"Enter elements of the first set: \").split()))\n",
        "set2 = set(map(int, input(\"Enter elements of the second set: \").split()))\n",
        "\n",
        "union_set = set1.union(set2)\n",
        "intersection_set = set1.intersection(set2)\n",
        "\n",
        "product_union = prod(union_set) if union_set else 0\n",
        "product_intersection = prod(intersection_set) if intersection_set else 0\n",
        "\n",
        "print(\"Union:\", union_set)\n",
        "print(\"Intersection:\", intersection_set)\n",
        "print(\"Product of Union:\", product_union)\n",
        "print(\"Product of Intersection:\", product_intersection)"
      ]
    },
    {
      "cell_type": "markdown",
      "metadata": {
        "id": "-ylvES93xwtb"
      },
      "source": [
        "## Symmetric Difference and Subset Check\n",
        "Write a program that asks for two sets. Ask for the element of the set in one line and elements separated by spaces. Calculate and print the symmetric difference of these sets. Then, check if the first set is a subset of the second set and print the result.\n",
        "\n",
        "Sample output 1:\n",
        "```\n",
        "Enter elements of the first set: 50 45 40 35 30 25 20 15 10 5\n",
        "Enter elements of the second set: 25 20 15 10 5 0 -5 -10 -15 -20\n",
        "Symmetric difference: {0, 35, 40, -20, 45, -15, 50, -10, -5, 30}\n",
        "Is subset: False\n",
        "```\n",
        "Sample output 2:\n",
        "```\n",
        "Enter elements of the first set: 10 20 30 40 50 60 70 80 90 100\n",
        "Enter elements of the second set: 30 40 50 60 70 80 90\n",
        "Symmetric difference: {100, 10, 20}\n",
        "Is subset: False\n",
        "```\n",
        "Sample output 3:\n",
        "```\n",
        "Enter elements of the first set: 50 90 60 40\n",
        "Enter elements of the second set: 50 90 100 60 150 40 200 250\n",
        "Symmetric difference: {100, 200, 250, 150}\n",
        "Is subset: True\n",
        "```"
      ]
    },
    {
      "cell_type": "code",
      "execution_count": null,
      "metadata": {
        "id": "m78BGoqbxx6r"
      },
      "outputs": [],
      "source": [
        "set1 = set(map(int, input(\"Enter elements of the first set: \").split()))\n",
        "set2 = set(map(int, input(\"Enter elements of the second set: \").split()))\n",
        "\n",
        "sym_diff = set1.symmetric_difference(set2)\n",
        "is_subset = set1.issubset(set2)\n",
        "\n",
        "print(\"Symmetric difference:\", sym_diff)\n",
        "print(\"Is subset:\", is_subset)"
      ]
    },
    {
      "cell_type": "markdown",
      "metadata": {
        "id": "m-g86egW7PM2"
      },
      "source": [
        "# 10. Dictionaries"
      ]
    },
    {
      "cell_type": "markdown",
      "metadata": {
        "id": "vi4p0cqcBLLX"
      },
      "source": [
        "## Show Me All Your Keys!\n",
        "\n",
        "A dictionary is initialized with key-value pairs as shown below.\n",
        "```\n",
        "capital_city = {\n",
        "    \"Philippines\": \"Manila\",\n",
        "    \"Japan\": \"Tokyo\",\n",
        "    \"Italy\": \"Rome\",\n",
        "    \"England\": \"London\",\n",
        "}\n",
        "```\n",
        "Get and print all the keys of the dictionary (one per line).\n",
        "\n",
        "Sample Output 1:\n",
        "```\n",
        "Philippines\n",
        "Japan\n",
        "Italy\n",
        "England\n",
        "```"
      ]
    },
    {
      "cell_type": "code",
      "execution_count": null,
      "metadata": {
        "id": "sQPvCV9xBV-p"
      },
      "outputs": [],
      "source": [
        "capital_city = {\n",
        "    \"Philippines\": \"Manila\",\n",
        "    \"Japan\": \"Tokyo\",\n",
        "    \"Italy\": \"Rome\",\n",
        "    \"England\": \"London\",\n",
        "}\n",
        "\n",
        "for key in capital_city.keys():\n",
        "    print(key)"
      ]
    },
    {
      "cell_type": "markdown",
      "metadata": {
        "id": "-83iyZbDARxn"
      },
      "source": [
        "## How Many Words are in your Dictionary?\n",
        "A dictionary is initialized with key-value pairs as shown below.\n",
        "```\n",
        "numbers = {\n",
        "    1: \"One\",\n",
        "    2: \"Two\",\n",
        "    3: \"Three\",\n",
        "    4: \"Four\"\n",
        "}\n",
        "```\n",
        "Print its length on the next line using the proper built-in function available.\n",
        "\n",
        "Sample output:\n",
        "```\n",
        "Length of dictionary: 4\n",
        "```"
      ]
    },
    {
      "cell_type": "code",
      "execution_count": null,
      "metadata": {
        "id": "0pjqYcc-AlAv"
      },
      "outputs": [],
      "source": [
        "numbers = {\n",
        "    1: \"One\",\n",
        "    2: \"Two\",\n",
        "    3: \"Three\",\n",
        "    4: \"Four\"\n",
        "}\n",
        "\n",
        "print(\"Length of dictionary:\", len(numbers))\n"
      ]
    },
    {
      "cell_type": "markdown",
      "metadata": {
        "id": "8_8m_V7a9-K_"
      },
      "source": [
        "## Updating Dictionaries\n",
        "\n",
        "A dictionary is initialized with key-value pairs in the code editor.\n",
        "\n",
        "Ask the user for a new value and update the value in the key `'key_1'` with the inputted value.\n",
        "\n",
        "Print the updated dictionary on the next line after.\n",
        "\n",
        "Sample output 1:\n",
        "```\n",
        "Enter a new value for key_1: 3\n",
        "{'key_0': 4, 'key_1': 3, 'key_2': 7, 'key_3': 1, 'key_4': 5, 'key_5': 10}\n",
        "```\n",
        "Sample output 2:\n",
        "```\n",
        "Enter a new value for key_1: 100\n",
        "{'key_0': 4, 'key_1': 100, 'key_2': 7, 'key_3': 1, 'key_4': 5, 'key_5': 10}\n",
        "```\n",
        "Sample output 3:\n",
        "```\n",
        "Enter a new value for key_1: 232\n",
        "{'key_0': 4, 'key_1': 232, 'key_2': 7, 'key_3': 1, 'key_4': 5, 'key_5': 10}\n",
        "```"
      ]
    },
    {
      "cell_type": "code",
      "execution_count": null,
      "metadata": {
        "id": "sMbMBtKm-xrX"
      },
      "outputs": [],
      "source": [
        "new_value = input(\"Enter a new value for key_1: \")\n",
        "\n",
        "my_dict = {\n",
        "    \"key_0\": 4,\n",
        "    \"key_1\": 2,\n",
        "    \"key_2\": 7,\n",
        "    \"key_3\": 1,\n",
        "    \"key_4\": 5,\n",
        "    \"key_5\": 10\n",
        "}\n",
        "my_dict[\"key_1\"] = int(new_value)\n",
        "print(my_dict)"
      ]
    },
    {
      "cell_type": "markdown",
      "metadata": {
        "id": "D4bmChaz_Iju"
      },
      "source": [
        "## Did You Find My Key?\n",
        "\n",
        "A dictionary is initialized with key-value pairs as shown below.\n",
        "\n",
        "```\n",
        "person_details = {\n",
        "    \"name\": \"Cody\",\n",
        "    \"age\": \"4\",\n",
        "    \"color\": \"blue\",\n",
        "    \"nickname\": \"Chum\"\n",
        "}\n",
        "```\n",
        "\n",
        "Ask the user for a string input and check if that input exists as a key in the dictionary.\n",
        "\n",
        "Print `\"The {key} exists in the dictionary.\"` if it exists, otherwise print `\"The {key} does not exist in the dictionary.\"` on the next line.\n",
        "\n",
        "Sample output 1:\n",
        "```\n",
        "Enter a key: name\n",
        "The name exists in the dictionary.\n",
        "```\n",
        "Sample output 2:\n",
        "```\n",
        "Enter a key: eye_color\n",
        "The eye_color does not exist in the dictionary.\n",
        "```\n",
        "Sample output 3:\n",
        "```\n",
        "Enter a key: color\n",
        "The color exists in the dictionary.\n",
        "```\n"
      ]
    },
    {
      "cell_type": "code",
      "execution_count": null,
      "metadata": {
        "id": "_lXe4kf3_oa9"
      },
      "outputs": [],
      "source": [
        "person_details = {\n",
        "    \"name\": \"Cody\",\n",
        "    \"age\": \"4\",\n",
        "    \"color\": \"blue\",\n",
        "    \"nickname\": \"Chum\"\n",
        "}\n",
        "\n",
        "key = input(\"Enter a key: \")\n",
        "\n",
        "if key in person_details:\n",
        "    print(f\"The {key} exists in the dictionary.\")\n",
        "else:\n",
        "    print(f\"The {key} does not exist in the dictionary.\")\n"
      ]
    },
    {
      "cell_type": "markdown",
      "metadata": {
        "id": "7iKn4Tfq-2AG"
      },
      "source": [
        "## Unique Words Counter\n",
        "\n",
        "Write a program that takes a sentence as input and counts the number of unique words in the sentence using a dictionary.\n",
        "\n",
        "Sample output 1:\n",
        "```\n",
        "Enter a sentence: The quick brown fox jumps over the lazy dog.\n",
        "Number of unique words: 8\n",
        "```\n",
        "Sample output 2:\n",
        "```\n",
        "Enter a sentence: Hello world, hello to you!\n",
        "Number of unique words: 4\n",
        "```"
      ]
    },
    {
      "cell_type": "code",
      "execution_count": null,
      "metadata": {
        "id": "CHM5PIIo_ABJ"
      },
      "outputs": [],
      "source": [
        "sentence = input(\"Enter a sentence: \")\n",
        "clean_sentence = \"\"\n",
        "\n",
        "for char in sentence:\n",
        "    if char.isalnum() or char.isspace():\n",
        "        clean_sentence += char\n",
        "    else:\n",
        "        clean_sentence += \" \"\n",
        "\n",
        "words = clean_sentence.lower().split()\n",
        "word_dict = {}\n",
        "for word in words:\n",
        "    word_dict[word] = word_dict.get(word, 0) + 1\n",
        "\n",
        "print(\"Number of unique words:\", len(word_dict))\n"
      ]
    },
    {
      "cell_type": "markdown",
      "metadata": {
        "id": "F4CO8zIV7WTl"
      },
      "source": [
        "## Dictionary Sorter\n",
        "Write a program that takes a dictionary as input and sorts it by the values in ascending order. Taking input from the user and considering whether it would be lowercase or uppercase. if `'done'` is inputted it would stop asking for input from the user and then print the sorted version of the dictionary.\n",
        "\n",
        "Sample output 1:\n",
        "```\n",
        "Enter dictionary items (key-value pairs). Enter 'done' to finish.\n",
        "Key: h\n",
        "Value: 5\n",
        "Key: e\n",
        "Value: 1\n",
        "Key: l\n",
        "Value: 2\n",
        "Key: done\n",
        "Sorted dictionary:\n",
        "e: 1\n",
        "l: 2\n",
        "h: 5\n",
        "```\n",
        "Sample output 2:\n",
        "```\n",
        "Enter dictionary items (key-value pairs). Enter 'done' to finish.\n",
        "Key: c\n",
        "Value: 2\n",
        "Key: o\n",
        "Value: 8\n",
        "Key: d\n",
        "Value: 9\n",
        "Key: e\n",
        "Value: 1\n",
        "Key: done\n",
        "Sorted dictionary:\n",
        "e: 1\n",
        "c: 2\n",
        "o: 8\n",
        "d: 9\n",
        "```"
      ]
    },
    {
      "cell_type": "code",
      "execution_count": null,
      "metadata": {
        "id": "7v5mbGI497K_"
      },
      "outputs": [],
      "source": [
        "print(\"Enter dictionary items (key-value pairs). Enter 'done' to finish.\")\n",
        "\n",
        "my_dict = {}\n",
        "\n",
        "while True:\n",
        "    key = input(\"Key: \")\n",
        "    if key.lower() == \"done\":   \n",
        "        break\n",
        "    value = input(\"Value: \")\n",
        "\n",
        "    if value.isdigit() or (value.startswith('-') and value[1:].isdigit()):\n",
        "        value = int(value)\n",
        "    else:\n",
        "        try:\n",
        "            value = float(value)  \n",
        "        except ValueError:\n",
        "            pass \n",
        "    my_dict[key] = value\n",
        "\n",
        "sorted_items = sorted(my_dict.items(), key=lambda x: x[1])\n",
        "\n",
        "print(\"Sorted dictionary:\")\n",
        "for k, v in sorted_items:\n",
        "    print(f\"{k}: {v}\")\n"
      ]
    },
    {
      "cell_type": "markdown",
      "metadata": {
        "id": "Ylz5q6OPBfvn"
      },
      "source": [
        "##  Dictionary Key Value Product\n",
        "Write a function that takes a dictionary of integers as input and returns the product of the keys and values in the dictionary. For example, if the input dictionary is `{1: 2, 3: 4, 5: 6}`, the output should be `720` since `(1*2*3*4*5*6)=720`.\n",
        "\n",
        "Sample output 1:\n",
        "```\n",
        "Enter dictionary values in format key:value,key:value,...\n",
        "1:2, 3:4, 5:6\n",
        "Product of key-value pairs in the dictionary is: 720\n",
        "```\n",
        "Sample output 2:\n",
        "```\n",
        "Enter dictionary values in format key:value,key:value,...\n",
        "2:4, 4:6, 8:10\n",
        "Product of key-value pairs in the dictionary is: 15360\n",
        "```\n",
        "Sample output 3:\n",
        "```\n",
        "Enter dictionary values in format key:value,key:value,...\n",
        "1:1, 2:2, 3:3\n",
        "Product of key-value pairs in the dictionary is: 36\n",
        "```"
      ]
    },
    {
      "cell_type": "code",
      "execution_count": null,
      "metadata": {
        "id": "azWd1foPCLE1"
      },
      "outputs": [],
      "source": [
        "user_input = input(\"Enter dictionary values in format key:value,key:value,...\\n\")\n",
        "\n",
        "def dict_key_value_product(my_dict):\n",
        "    product = 1\n",
        "    for k, v in my_dict.items():\n",
        "        product *= k * v\n",
        "    return product\n",
        "\n",
        "my_dict = {}\n",
        "pairs = user_input.split(\",\")\n",
        "for pair in pairs:\n",
        "    key, value = pair.split(\":\")\n",
        "    my_dict[int(key.strip())] = int(value.strip())\n",
        "\n",
        "result = dict_key_value_product(my_dict)\n",
        "print(f\"Product of key-value pairs in the dictionary is: {result}\")\n"
      ]
    },
    {
      "cell_type": "markdown",
      "metadata": {
        "id": "wkkHgSSA9_sF"
      },
      "source": [
        "## Dictionary Key Search and Sort\n",
        "\n",
        "Write a program that takes a dictionary as input, prompts the user to search for a key, and if found, sorts the values associated with that key in alphabetical order.\n",
        "\n",
        "\n",
        "Three Dictionaries are needed:\n",
        "\n",
        "1. Fruits\n",
        "  1. banana\n",
        "  2. apple\n",
        "  3. orange\n",
        "2. Vegetable\n",
        "  1. carrot\n",
        "  2. celery\n",
        "  3. broccoli\n",
        "3. Meat\n",
        "  1. chicken\n",
        "  2. beef\n",
        "  3. pork\n",
        "\n",
        "Sample output 1:\n",
        "```\n",
        "Enter a key to search for: Fruit\n",
        "Values associated with key 'fruit' in alphabetical order:\n",
        "apple\n",
        "banana\n",
        "orange\n",
        "```\n",
        "Sample output 2:\n",
        "```\n",
        "Enter a key to search for: vegetable\n",
        "Values associated with key 'vegetable' in alphabetical order:\n",
        "broccoli\n",
        "carrot\n",
        "celery\n",
        "```\n",
        "Sample output 3:\n",
        "```\n",
        "Enter a key to search for: meats\n",
        "Key 'meats' not found in dictionary.\n",
        "```"
      ]
    },
    {
      "cell_type": "code",
      "execution_count": null,
      "metadata": {
        "id": "xupdhQDm-ePt"
      },
      "outputs": [],
      "source": [
        "key = input(\"Enter a key to search for: \").lower()\n",
        "\n",
        "categories = {\n",
        "    \"fruit\": [\"banana\", \"apple\", \"orange\"],\n",
        "    \"vegetable\": [\"carrot\", \"celery\", \"broccoli\"],\n",
        "    \"meat\": [\"chicken\", \"beef\", \"pork\"]\n",
        "}\n",
        "\n",
        "if key in categories:\n",
        "    print(f\"Values associated with key '{key}' in alphabetical order:\")\n",
        "    for item in sorted(categories[key]):\n",
        "        print(item)\n",
        "else:\n",
        "    print(f\"Key '{key}' not found in dictionary.\")"
      ]
    },
    {
      "cell_type": "markdown",
      "metadata": {
        "id": "o0kcQ7lu_x4_"
      },
      "source": [
        "## Anagram Checker\n",
        "Write a program that takes two words as input and determines whether they are anagrams of each other using dictionaries.\n",
        "\n",
        "Sample output 1:\n",
        "```\n",
        "Enter first word: bored\n",
        "Enter second word: robed\n",
        "The words are anagrams of each other.\n",
        "```\n",
        "Sample output 2:\n",
        "```\n",
        "Enter first word: hello\n",
        "Enter second word: ello\n",
        "The words are not anagrams of each other.\n",
        "```\n",
        "Sample output 3:\n",
        "```\n",
        "Enter first word: BELow\n",
        "Enter second word: elbow\n",
        "The words are anagrams of each other.\n",
        "```"
      ]
    },
    {
      "cell_type": "code",
      "execution_count": null,
      "metadata": {
        "id": "UhVoVXIZAA6m"
      },
      "outputs": [],
      "source": [
        "word1 = input(\"Enter first word: \")\n",
        "word2 = input(\"Enter second word: \")\n",
        "\n",
        "def build_char_count(word):\n",
        "    char_count = {}\n",
        "    for char in word.lower(): \n",
        "        char_count[char] = char_count.get(char, 0) + 1\n",
        "    return char_count\n",
        "\n",
        "dict1 = build_char_count(word1)\n",
        "dict2 = build_char_count(word2)\n",
        "\n",
        "if dict1 == dict2:\n",
        "    print(\"The words are anagrams of each other.\")\n",
        "else:\n",
        "    print(\"The words are not anagrams of each other.\")\n"
      ]
    },
    {
      "cell_type": "markdown",
      "metadata": {
        "id": "k5HC6-oiAtFP"
      },
      "source": [
        "## Currency Converter\n",
        "Create a program that allows the user to convert between different currencies using a dictionary that contains conversion rates. The program should ask the user to enter an amount in one currency, then ask for the target currency, and output the converted amount. The conversion rates should be stored in a dictionary, where the keys are the currency codes (e.g., USD, EUR, GBP) and the values are the conversion rates.\n",
        "Conversion rates:\n",
        "\n",
        "* USD - 1.00\n",
        "* EUR - 0.84\n",
        "* GBP - 0.72\n",
        "* JPY - 109.98\n",
        "* AUD - 1.33\n",
        "* CAD - 1.26\n",
        "* CHF - 0.92\n",
        "* CNY - 6.46\n",
        "* HKD - 7.76\n",
        "* NZD - 1.43\n",
        "\n",
        "Sample output 1:\n",
        "```\n",
        "Enter the amount: 123\n",
        "Enter the source currency code (USD, EUR, GBP, JPY, AUD, CAD, CHF, CNY, HKD, NZD): hkd\n",
        "Enter the target currency code (USD, EUR, GBP, JPY, AUD, CAD, CHF, CNY, HKD, NZD): usd\n",
        "123.00 HKD = 15.86 USD\n",
        "```\n",
        "Sample output 2:\n",
        "```\n",
        "Enter the amount: 421\n",
        "Enter the source currency code (USD, EUR, GBP, JPY, AUD, CAD, CHF, CNY, HKD, NZD): chf\n",
        "Enter the target currency code (USD, EUR, GBP, JPY, AUD, CAD, CHF, CNY, HKD, NZD): nzd\n",
        "421.00 CHF = 640.22 NZD\n",
        "```\n",
        "Sample output 3:\n",
        "```\n",
        "Enter the amount: 1\n",
        "Enter the source currency code (USD, EUR, GBP, JPY, AUD, CAD, CHF, CNY, HKD, NZD): ssd\n",
        "Invalid source currency code.\n",
        "```\n"
      ]
    },
    {
      "cell_type": "code",
      "execution_count": null,
      "metadata": {
        "id": "MdRl_nrZBCRP"
      },
      "outputs": [],
      "source": [
        "amount = float(input(\"Enter the amount: \"))\n",
        "\n",
        "conversion_rates = {\n",
        "    \"USD\": 1.00,\n",
        "    \"EUR\": 0.84,\n",
        "    \"GBP\": 0.72,\n",
        "    \"JPY\": 109.98,\n",
        "    \"AUD\": 1.33,\n",
        "    \"CAD\": 1.26,\n",
        "    \"CHF\": 0.92,\n",
        "    \"CNY\": 6.46,\n",
        "    \"HKD\": 7.76,\n",
        "    \"NZD\": 1.43\n",
        "}\n",
        "\n",
        "source = input(\"Enter the source currency code (USD, EUR, GBP, JPY, AUD, CAD, CHF, CNY, HKD, NZD): \").upper()\n",
        "\n",
        "if source not in conversion_rates:\n",
        "    print(\"Invalid source currency code.\")\n",
        "else:\n",
        "    target = input(\"Enter the target currency code (USD, EUR, GBP, JPY, AUD, CAD, CHF, CNY, HKD, NZD): \").upper()\n",
        "\n",
        "    if target not in conversion_rates:\n",
        "        print(\"Invalid target currency code.\")\n",
        "    else:\n",
        "        amount_in_usd = amount / conversion_rates[source]\n",
        "        converted_amount = amount_in_usd * conversion_rates[target]\n",
        "        print(f\"{amount:.2f} {source} = {converted_amount:.2f} {target}\")\n"
      ]
    },
    {
      "cell_type": "markdown",
      "metadata": {
        "id": "ApQqrJkhCaOH"
      },
      "source": [
        "# 11. Functions"
      ]
    },
    {
      "cell_type": "markdown",
      "metadata": {
        "id": "Pjbxq2a_D8x4"
      },
      "source": [
        "## X plus Y Function\n",
        "Write a program that includes a `function`, as specified in the minimum requirements, that asks for two integer numbers, x, and y. Then, add y to x, and assign it to x using the `+=` operator. The function will return x after the assignment. In the main function, call the created function and print the returned value.\n",
        "\n",
        "Sample output 1:\n",
        "```\n",
        "Enter x: 10\n",
        "Enter y: 5\n",
        "Result: 15\n",
        "```\n",
        "Sample Output 2\n",
        "```\n",
        "Enter x: 33\n",
        "Enter y: 3\n",
        "Result: 36\n",
        "```\n",
        "Sample Output 3\n",
        "```\n",
        "Enter x: 1\n",
        "Enter y: 1\n",
        "Result: 2\n",
        "```"
      ]
    },
    {
      "cell_type": "code",
      "execution_count": null,
      "metadata": {
        "id": "UNSLjDarETGH"
      },
      "outputs": [],
      "source": [
        "def add_y_to_x():\n",
        "    x = int(input(\"Enter x: \"))\n",
        "    y = int(input(\"Enter y: \"))\n",
        "    x += y  \n",
        "    return x\n",
        "\n",
        "result = add_y_to_x()\n",
        "print(\"Result:\", result)"
      ]
    },
    {
      "cell_type": "markdown",
      "metadata": {
        "id": "2de34-pIDkwP"
      },
      "source": [
        "## Area of a Circle\n",
        "\n",
        "Write a program that includes a `function`, as specified in the minimum requirements, that calculates and returns the area of a circle with a radius entered by the user. The function should take no parameters but should prompt the user to enter a radius. In the main function, call the created function and print the returned value.\n",
        "\n",
        "Sample Output 1\n",
        "```\n",
        "Enter the radius of the circle: 2\n",
        "Area of Circle: 12.57\n",
        "```\n",
        "Sample output 2:\n",
        "```\n",
        "Enter the radius of the circle: 56\n",
        "Area of Circle: 9852.03\n",
        "```\n",
        "Sample output 3:\n",
        "```\n",
        "Enter the radius of the circle: 6\n",
        "Area of Circle: 113.10\n",
        "```"
      ]
    },
    {
      "cell_type": "code",
      "execution_count": null,
      "metadata": {
        "id": "C5H9T40xDxYH"
      },
      "outputs": [],
      "source": [
        "import math\n",
        "\n",
        "def calculate_circle_area():\n",
        "    radius = float(input(\"Enter the radius of the circle: \"))\n",
        "    area = math.pi * radius ** 2\n",
        "    return area\n",
        "\n",
        "area = calculate_circle_area()\n",
        "print(\"Area of Circle: {:.2f}\".format(area))\n"
      ]
    },
    {
      "cell_type": "markdown",
      "metadata": {
        "id": "PTwVnZ5KCftu"
      },
      "source": [
        "## Perimeter of Circle Section\n",
        "Write a program that includes a `function`, as specified in the minimum requirements, that asks the user to input the radius and arc length of the circle. The function then calculates and returns the perimeter of a circle sector using the formula `perimeter = 2 * radius + arcLength`. In the main function, call the created function and print the returned value.\n",
        "\n",
        "Sample output 1:\n",
        "```\n",
        "Enter the radius of the circle sector: 5.5\n",
        "Enter the arc length of the circle sector: 12.2\n",
        "Perimeter of the circle sector: 23.20\n",
        "```\n",
        "Sample output 2:\n",
        "```\n",
        "Enter the radius of the circle sector: 10\n",
        "Enter the arc length of the circle sector: 33.3\n",
        "Perimeter of the circle sector: 53.30\n",
        "```\n",
        "Sample output 3:\n",
        "```\n",
        "Enter the radius of the circle sector: 12.12\n",
        "Enter the arc length of the circle sector: 13.13\n",
        "Perimeter of the circle sector: 37.37\n",
        "```"
      ]
    },
    {
      "cell_type": "code",
      "execution_count": null,
      "metadata": {
        "id": "A6ZRZRfcDfA-"
      },
      "outputs": [],
      "source": [
        "def circle_sector_perimeter():\n",
        "    radius = float(input(\"Enter the radius of the circle sector: \"))\n",
        "    arc_length = float(input(\"Enter the arc length of the circle sector: \"))\n",
        "    perimeter = 2 * radius + arc_length\n",
        "    return perimeter\n",
        "\n",
        "perimeter = circle_sector_perimeter()\n",
        "print(\"Perimeter of the circle sector: {:.2f}\".format(perimeter))\n"
      ]
    },
    {
      "cell_type": "markdown",
      "metadata": {
        "id": "KrD4M7ZFFHjX"
      },
      "source": [
        "## Maximum Value\n",
        "Write a program that includes a `function`, as specified in the minimum requirements, that takes two integer values as parameters and returns the maximum value. In the main function, ask for two integer inputs, then call the created function using the inputs, get the returned value, and print the said value.\n",
        "\n",
        "Sample Output 1\n",
        "```\n",
        "Enter two integers:\n",
        "14\n",
        "12\n",
        "The maximum value is 14\n",
        "```\n",
        "Sample Output 2\n",
        "```\n",
        "Enter two integers:\n",
        "56\n",
        "15651\n",
        "The maximum value is 15651\n",
        "```\n",
        "Sample Output 3\n",
        "```\n",
        "Enter two integers:\n",
        "465\n",
        "124\n",
        "The maximum value is 465\n",
        "```"
      ]
    },
    {
      "cell_type": "code",
      "execution_count": null,
      "metadata": {
        "id": "KvB24IZjFTcX"
      },
      "outputs": [],
      "source": [
        "def maximum_value(a, b):\n",
        "    if a > b:\n",
        "        return a\n",
        "    else:\n",
        "        return b\n",
        "\n",
        "print(\"Enter two integers:\")\n",
        "num1 = int(input())\n",
        "num2 = int(input())\n",
        "\n",
        "max_val = maximum_value(num1, num2)\n",
        "print(\"The maximum value is\", max_val)\n"
      ]
    },
    {
      "cell_type": "markdown",
      "metadata": {
        "id": "LJ_AlfnXFy4H"
      },
      "source": [
        "## Reverse String\n",
        "Write a program that includes a `function`, as specified in the minimum requirements, that takes a string as a parameter and returns the reversed string. In the main function, ask for a string input, then call the created function using the input, get the returned value, and print the said value.\n",
        "\n",
        "Sample Output 1\n",
        "```\n",
        "Enter a string: This is a sample string.\n",
        "The reversed string is:\n",
        ".gnirts elpmas a si sihT\n",
        "```\n",
        "Sample Output 2\n",
        "```\n",
        "Enter a string: CodeChum is awesome.\n",
        "The reversed string is:\n",
        ".emosewa si muhCedoC\n",
        "```\n",
        "Sample Output 3\n",
        "```\n",
        "Enter a string: Hello, World!\n",
        "The reversed string is:\n",
        "!dlroW ,olleH\n",
        "```"
      ]
    },
    {
      "cell_type": "code",
      "execution_count": null,
      "metadata": {
        "id": "ERtXU6WHF8D3"
      },
      "outputs": [],
      "source": [
        "def reverse_string(s):\n",
        "    return s[::-1]\n",
        "\n",
        "user_input = input(\"Enter a string: \")\n",
        "reversed_str = reverse_string(user_input)\n",
        "print(\"The reversed string is:\")\n",
        "print(reversed_str)\n"
      ]
    },
    {
      "cell_type": "markdown",
      "metadata": {
        "id": "11stAPoYFWYX"
      },
      "source": [
        "## Kelvin to Celsius\n",
        "\n",
        "Write a program that includes a `function`, as specified in the minimum requirements, that takes a double precision floating-point argument - `kelvin`. It converts the temperature from Kelvin to Celsius using the conversion formula: `Celsius = Kelvin - 273.15`, and returns the converted temperature in double data type. In the main function, ask for the kelvin input, then call the created function using the input, get the returned value, and print the said value.\n",
        "\n",
        "Sample Output 1\n",
        "```\n",
        "Enter the temperature in Kelvin: 432\n",
        "Temperature in Celsius: 158.85\n",
        "```\n",
        "Sample Output 2\n",
        "```\n",
        "Enter the temperature in Kelvin: 273\n",
        "Temperature in Celsius: -0.15\n",
        "```\n",
        "Sample Output 3\n",
        "```\n",
        "Enter the temperature in Kelvin: 2752\n",
        "Temperature in Celsius: 2478.85\n",
        "```"
      ]
    },
    {
      "cell_type": "code",
      "execution_count": null,
      "metadata": {
        "id": "hy-p9VkyFtzO"
      },
      "outputs": [],
      "source": [
        "def kelvin_to_celsius(kelvin):\n",
        "    return kelvin - 273.15\n",
        "\n",
        "kelvin_input = float(input(\"Enter the temperature in Kelvin: \"))\n",
        "celsius = kelvin_to_celsius(kelvin_input)\n",
        "print(f\"Temperature in Celsius: {celsius:.2f}\")\n"
      ]
    },
    {
      "cell_type": "markdown",
      "metadata": {
        "id": "Ao96T0clEZtw"
      },
      "source": [
        "## Volume Conversion and Total Volume\n",
        "Write a program that includes three `functions`, as specified in the minimum requirements. The following are the function details:\n",
        "\n",
        "* Convert Liters to Milliliters: This function takes a double precision floating-point argument - `'liters'`. It converts the volume from liters to milliliters using the conversion factor:\n",
        "`1 liter = 1000 milliliters` and returns the converted value in milliliters (double).\n",
        "* Convert Cubic Meters to Cubic feet: This function takes a double precision floating-point argument - `cubicMeters`. It converts the volume from cubic meters to cubic feet using the conversion factor: `1 cubic foot = 0.0283168 cubic meters` and returns the converted value in cubic feet (double).\n",
        "* Calculate Total Volume: This function takes two double precision floating-point arguments - `millilitersValue` and `cubicFeetValue`. It calculates the total volume by summing the converted milliliters and cubic feet values and returns the result (double).\n",
        "\n",
        "\n",
        "In the main function, ask for two double values, `liters` and `cubicMeters`, then use the functions convert liters to milliliters, convert cubic meters to cubic feet, and calculate total volume functions with their respective results printed. The returned values of convert liters to milliliters and convert cubic meters to cubic feet functions are used in calculate total volume function.\n",
        "\n",
        "Sample Output 1:\n",
        "```\n",
        "Enter volume in liters: 100.55\n",
        "Enter volume in cubic meters: 23.56\n",
        "Converted Value in Milliliters: 100550.00 ml\n",
        "Converted Value in Cubic Feet: 832.01 cubic feet\n",
        "Total Volume: 101382.01\n",
        "```\n",
        "Sample Output 2\n",
        "```\n",
        "Enter volume in liters: 556.86\n",
        "Enter volume in cubic meters: 5.77\n",
        "Converted Value in Milliliters: 556860.00 ml\n",
        "Converted Value in Cubic Feet: 203.77 cubic feet\n",
        "Total Volume: 557063.77\n",
        "```\n",
        "Sample Output 3\n",
        "```\n",
        "Enter volume in liters: 34.5\n",
        "Enter volume in cubic meters: 667.8\n",
        "Converted Value in Milliliters: 34500.00 ml\n",
        "Converted Value in Cubic Feet: 23583.17 cubic feet\n",
        "Total Volume: 58083.17\n",
        "```"
      ]
    },
    {
      "cell_type": "code",
      "execution_count": null,
      "metadata": {
        "id": "_8Qcp_1LFAc4"
      },
      "outputs": [],
      "source": [
        "def liters_to_milliliters(liters):\n",
        "    return liters * 1000\n",
        "\n",
        "def cubic_meters_to_cubic_feet(cubic_meters):\n",
        "    return cubic_meters / 0.0283168\n",
        "\n",
        "def calculate_total_volume(milliliters_value, cubic_feet_value):\n",
        "    return milliliters_value + cubic_feet_value\n",
        "\n",
        "liters_input = float(input(\"Enter volume in liters: \"))\n",
        "cubic_meters_input = float(input(\"Enter volume in cubic meters: \"))\n",
        "\n",
        "milliliters = liters_to_milliliters(liters_input)\n",
        "cubic_feet = cubic_meters_to_cubic_feet(cubic_meters_input)\n",
        "total_volume = calculate_total_volume(milliliters, cubic_feet)\n",
        "\n",
        "print(f\"Converted Value in Milliliters: {milliliters:.2f} ml\")\n",
        "print(f\"Converted Value in Cubic Feet: {cubic_feet:.2f} cubic feet\")\n",
        "print(f\"Total Volume: {total_volume:.2f}\")\n"
      ]
    },
    {
      "cell_type": "markdown",
      "metadata": {
        "id": "k1ZHdkRNGvoH"
      },
      "source": [
        "## Even Numbers\n",
        "\n",
        "Write a program that includes a `function`, as specified in the minimum requirements, that prints out all even numbers from `1` to `N`. In the main function, call the created function.\n",
        "\n",
        "Sample Output 1\n",
        "```\n",
        "Enter a number: 6\n",
        "2\n",
        "4\n",
        "6\n",
        "```\n",
        "Sample Output 2\n",
        "```\n",
        "Enter a number: 20\n",
        "2\n",
        "4\n",
        "6\n",
        "8\n",
        "10\n",
        "12\n",
        "14\n",
        "16\n",
        "18\n",
        "20\n",
        "```\n",
        "Sample Output 3\n",
        "```\n",
        "Enter a number: 41\n",
        "2\n",
        "4\n",
        "6\n",
        "8\n",
        "10\n",
        "12\n",
        "14\n",
        "16\n",
        "18\n",
        "20\n",
        "22\n",
        "24\n",
        "26\n",
        "28\n",
        "30\n",
        "32\n",
        "34\n",
        "36\n",
        "38\n",
        "40\n",
        "```"
      ]
    },
    {
      "cell_type": "code",
      "execution_count": null,
      "metadata": {
        "id": "uFG9NFPsG4Hw"
      },
      "outputs": [],
      "source": [
        "def print_even_numbers(n):\n",
        "    for i in range(2, n+1, 2):\n",
        "        print(i)\n",
        "\n",
        "n = int(input(\"Enter a number: \"))\n",
        "print_even_numbers(n)\n"
      ]
    },
    {
      "cell_type": "markdown",
      "metadata": {
        "id": "L8A7ur-DGZYn"
      },
      "source": [
        "## Expression Evaluation\n",
        "\n",
        "Write a program that includes a `function`, as specified in the minimum requirements, which does not return anything and takes four double arguments - `'a', 'b', 'c',` and `'d'`. It evaluates the expression `(a + b) * (c - d) / (b + c)` and displays the result. In the main function, ask for `a, b, c` and `d` then call the created function by passing the inputs.\n",
        "\n",
        "Sample Output 1\n",
        "```\n",
        "Enter a: -5.2\n",
        "Enter b: 3.5\n",
        "Enter c: 6.6\n",
        "Enter d: 2.8\n",
        "Result of expression: -0.64\n",
        "```\n",
        "Sample Output 2\n",
        "```\n",
        "Enter a: 2.2\n",
        "Enter b: 6.4\n",
        "Enter c: 3.3\n",
        "Enter d: -6.6\n",
        "Result of expression: 8.78\n",
        "```\n",
        "Sample Output 3\n",
        "```\n",
        "Enter a: 8.8\n",
        "Enter b: 2.2\n",
        "Enter c: 5.5\n",
        "Enter d: 8\n",
        "Result of expression: -3.57\n",
        "```"
      ]
    },
    {
      "cell_type": "code",
      "execution_count": null,
      "metadata": {
        "id": "FUtwqh3NGpEC"
      },
      "outputs": [],
      "source": [
        "def evaluate_expression(a, b, c, d):\n",
        "    if (b + c) == 0:\n",
        "        print(\"Division by zero error!\")\n",
        "        return\n",
        "    result = (a + b) * (c - d) / (b + c)\n",
        "    print(f\"Result of expression: {result:.2f}\")\n",
        "\n",
        "a = float(input(\"Enter a: \"))\n",
        "b = float(input(\"Enter b: \"))\n",
        "c = float(input(\"Enter c: \"))\n",
        "d = float(input(\"Enter d: \"))\n",
        "\n",
        "evaluate_expression(a, b, c, d)\n"
      ]
    },
    {
      "cell_type": "markdown",
      "metadata": {
        "id": "S_MYvBRZF_pX"
      },
      "source": [
        "## Invoice Generator\n",
        "Write a program that includes a `function`, as specified in the minimum requirements, that takes no arguments. Inside this function, prompt the user to enter the following details:\n",
        "* Customer Name\n",
        "* Product Name\n",
        "* Quantity\n",
        "* Price per Item in Decimal\n",
        "* Total Amount\n",
        "\n",
        "Display an invoice containing all the collected information in the format:\n",
        "```\n",
        "Invoice:\n",
        "Customer: [Customer]\n",
        "Product: [Product]\n",
        "Quantity: [Quantity]\n",
        "Price: [Price]\n",
        "Total: [Total]\n",
        "```\n",
        "\n",
        "In the main function, call the created function.\n",
        "\n",
        "Sample Output 1\n",
        "```\n",
        "Enter Customer Name: Xianrin\n",
        "Enter Product Name: Gooba\n",
        "Enter Quantity: 250\n",
        "Enter Price: 5\n",
        "Invoice:\n",
        "Customer: Xianrin\n",
        "Product: Gooba\n",
        "Quantity: 250\n",
        "Price: 5.00\n",
        "Total: 1250.00\n",
        "```\n",
        "Sample Output 2\n",
        "```\n",
        "Enter Customer Name: Yula\n",
        "Enter Product Name: Pines\n",
        "Enter Quantity: 100000\n",
        "Enter Price: 5\n",
        "Invoice:\n",
        "Customer: Yula\n",
        "Product: Pines\n",
        "Quantity: 100000\n",
        "Price: 5.00\n",
        "Total: 500000.00\n",
        "```\n",
        "Sample Output 3\n",
        "```\n",
        "Enter Customer Name: Forinna\n",
        "Enter Product Name: Dessert\n",
        "Enter Quantity: 250\n",
        "Enter Price: 3\n",
        "Invoice:\n",
        "Customer: Forinna\n",
        "Product: Dessert\n",
        "Quantity: 250\n",
        "Price: 3.00\n",
        "Total: 750.00\n",
        "```"
      ]
    },
    {
      "cell_type": "code",
      "execution_count": null,
      "metadata": {
        "id": "MTHjDmuuGS9Q"
      },
      "outputs": [],
      "source": [
        "def generate_invoice():\n",
        "    customer_name = input(\"Enter Customer Name: \")\n",
        "    product_name = input(\"Enter Product Name: \")\n",
        "    quantity = int(input(\"Enter Quantity: \"))\n",
        "    price_per_item = float(input(\"Enter Price: \"))\n",
        "    total_amount = quantity * price_per_item\n",
        "\n",
        "    print(\"\\nInvoice:\")\n",
        "    print(f\"Customer: {customer_name}\")\n",
        "    print(f\"Product: {product_name}\")\n",
        "    print(f\"Quantity: {quantity}\")\n",
        "    print(f\"Price: {price_per_item:.2f}\")\n",
        "    print(f\"Total: {total_amount:.2f}\")\n",
        "\n",
        "generate_invoice()\n"
      ]
    },
    {
      "cell_type": "markdown",
      "metadata": {
        "id": "UybEyo06JdiB"
      },
      "source": [
        "---\n",
        "# *End of Laboratory Exercises. Nothing follows.*"
      ]
    }
  ],
  "metadata": {
    "colab": {
      "provenance": []
    },
    "kernelspec": {
      "display_name": "Python 3",
      "name": "python3"
    },
    "language_info": {
      "codemirror_mode": {
        "name": "ipython",
        "version": 3
      },
      "file_extension": ".py",
      "mimetype": "text/x-python",
      "name": "python",
      "nbconvert_exporter": "python",
      "pygments_lexer": "ipython3",
      "version": "3.12.6"
    }
  },
  "nbformat": 4,
  "nbformat_minor": 0
}
