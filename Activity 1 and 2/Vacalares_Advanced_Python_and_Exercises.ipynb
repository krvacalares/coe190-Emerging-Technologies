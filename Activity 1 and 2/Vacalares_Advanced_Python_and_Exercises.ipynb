{
  "cells": [
    {
      "cell_type": "markdown",
      "metadata": {},
      "source": [
        "Name: Vacalares, Karl Richie B."
      ]
    },
    {
      "cell_type": "markdown",
      "metadata": {
        "id": "_sl057KIe9O1"
      },
      "source": [
        "# NumPy\n",
        "NumPy, short for Numerical Python, is a fundamental package for scientific computing in Python. It provides a powerful N-dimensional array object, along with a variety of functions for performing operations on these arrays, including mathematical, logical, shape manipulation, sorting, selecting, and basic linear algebra, among others. With its ability to handle large, multi-dimensional arrays and matrices efficiently, NumPy forms the foundation for many other scientific and data analysis libraries in Python, such as SciPy, Pandas, and machine learning frameworks like TensorFlow. It is widely used in data science, machine learning, and engineering for its performance, ease of use, and extensive community support.\n",
        "\n",
        "Note that the first ten exercises are in beginner level. While the rest is at a level of above average. By the end of the exercises, you are expected to leverage your knowledge in NumPy."
      ]
    },
    {
      "cell_type": "markdown",
      "metadata": {
        "id": "BaFE7Qnyfmm1"
      },
      "source": [
        "## 1. Create an Array\n",
        "Create an Array: Write a program that creates a NumPy array with elements `[1, 2, 3, 4, 5]`. Display the array."
      ]
    },
    {
      "cell_type": "code",
      "execution_count": null,
      "metadata": {
        "id": "o4Md3m5FegRu"
      },
      "outputs": [],
      "source": [
        "import numpy as np\n",
        "\n",
        "arr = np.array([1, 2, 3, 4, 5])\n",
        "print(\"NumPy Array:\", arr)"
      ]
    },
    {
      "cell_type": "markdown",
      "metadata": {
        "id": "KotzX9TRfy90"
      },
      "source": [
        "## 2. Array Operations\n",
        "Create two NumPy arrays, `a = [1, 2, 3]` and `b = [4, 5, 6]`. Perform element-wise addition, subtraction, multiplication, and division, and print the results."
      ]
    },
    {
      "cell_type": "code",
      "execution_count": null,
      "metadata": {
        "id": "f7uWUaPrf6Gx"
      },
      "outputs": [],
      "source": [
        "import numpy as np\n",
        "\n",
        "a = np.array([1, 2, 3])\n",
        "b = np.array([4, 5, 6])\n",
        "\n",
        "addition = a + b\n",
        "subtraction = a - b\n",
        "multiplication = a * b\n",
        "division = a / b\n",
        "\n",
        "print(\"a + b =\", addition)\n",
        "print(\"a - b =\", subtraction)\n",
        "print(\"a * b =\", multiplication)\n",
        "print(\"a / b =\", division)"
      ]
    },
    {
      "cell_type": "markdown",
      "metadata": {
        "id": "nEuWl8Uif5ki"
      },
      "source": [
        "## 3. Array Slicing\n",
        "Given a NumPy array `arr = [10, 20, 30, 40, 50]`, slice the array to extract the first three elements and the last two elements. Print both slices."
      ]
    },
    {
      "cell_type": "code",
      "execution_count": null,
      "metadata": {
        "id": "-w5P6L-ggCQE"
      },
      "outputs": [],
      "source": [
        "import numpy as np\n",
        "\n",
        "arr = np.array([10, 20, 30, 40, 50])\n",
        "first_three = arr[:3]\n",
        "\n",
        "last_two = arr[-2:]\n",
        "print(\"First three elements:\", first_three)\n",
        "print(\"Last two elements:\", last_two)"
      ]
    },
    {
      "cell_type": "markdown",
      "metadata": {
        "id": "oxAOI2C1gB5U"
      },
      "source": [
        "## 4. Create a Matrix\n",
        "Write a program that creates a 3x3 matrix using NumPy with values from 1 to 9. Display the matrix."
      ]
    },
    {
      "cell_type": "code",
      "execution_count": null,
      "metadata": {
        "id": "YbubVz4QgthM"
      },
      "outputs": [],
      "source": [
        "import numpy as np\n",
        "\n",
        "matrix = np.array([[1, 2, 3],\n",
        "                   [4, 5, 6],\n",
        "                   [7, 8, 9]])\n",
        "print(\"Matrix:\")\n",
        "print(matrix)"
      ]
    },
    {
      "cell_type": "markdown",
      "metadata": {
        "id": "-nzwOqklgw-U"
      },
      "source": [
        "## 5. Matrix Transpose\n",
        "Create a 2x3 matrix using NumPy, then compute and print its transpose."
      ]
    },
    {
      "cell_type": "code",
      "execution_count": null,
      "metadata": {
        "id": "Vq9V9ixhg1Bj"
      },
      "outputs": [],
      "source": [
        "import numpy as np\n",
        "\n",
        "matrix = np.array([[1, 2, 3],\n",
        "                   [4, 5, 6]])\n",
        "\n",
        "print(\"2x3 Matrix:\")\n",
        "print(matrix)\n",
        "\n",
        "transpose_matrix = matrix.T\n",
        "print(\"\\nTranspose:\")\n",
        "print(transpose_matrix)"
      ]
    },
    {
      "cell_type": "markdown",
      "metadata": {
        "id": "vf8LbVErg3vj"
      },
      "source": [
        "## 6. Element-wise Operations\n",
        "Create two 3x3 matrices. Perform element-wise addition, subtraction, and multiplication of these matrices and display the results."
      ]
    },
    {
      "cell_type": "code",
      "execution_count": null,
      "metadata": {
        "id": "jB97Nj0Ug7cA"
      },
      "outputs": [],
      "source": [
        "import numpy as np\n",
        "\n",
        "matrix1 = np.array([[1, 2, 3],\n",
        "                    [4, 5, 6],\n",
        "                    [7, 8, 9]])\n",
        "matrix2 = np.array([[9, 8, 7],\n",
        "                    [6, 5, 4],\n",
        "                    [3, 2, 1]])\n",
        "\n",
        "add_result = matrix1 + matrix2\n",
        "sub_result = matrix1 - matrix2\n",
        "mul_result = matrix1 * matrix2\n",
        "\n",
        "print(\"Matrix 1:\")\n",
        "print(matrix1)\n",
        "print(\"\\nMatrix 2:\")\n",
        "print(matrix2)\n",
        "print(\"\\n\\Addition:\")\n",
        "print(add_result)\n",
        "print(\"\\n\\Subtraction:\")\n",
        "print(sub_result)\n",
        "print(\"\\nMultiplication:\")\n",
        "print(mul_result)\n"
      ]
    },
    {
      "cell_type": "markdown",
      "metadata": {
        "id": "B8v4qPOig_Ug"
      },
      "source": [
        "## 7. Dot Product\n",
        "Create two vectors (1D arrays) of length 3 using NumPy. Compute and display their dot product."
      ]
    },
    {
      "cell_type": "code",
      "execution_count": null,
      "metadata": {
        "id": "0PJhdCcchC2g"
      },
      "outputs": [],
      "source": [
        "# insert your code for `Dot Product`"
      ]
    },
    {
      "cell_type": "markdown",
      "metadata": {
        "id": "KKYLHhOfhGPY"
      },
      "source": [
        "## 8. Statistical Operations\n",
        "Given a NumPy array `arr = [4, 8, 15, 16, 23, 42]`, compute and print the mean, median, and standard deviation of the array."
      ]
    },
    {
      "cell_type": "code",
      "execution_count": null,
      "metadata": {
        "id": "CA-ttYq5hMBk"
      },
      "outputs": [],
      "source": [
        "import numpy as np\n",
        "\n",
        "arr = np.array([4, 8, 15, 16, 23, 42])\n",
        "\n",
        "mean_value = np.mean(arr)\n",
        "median_value = np.median(arr)\n",
        "std_dev = np.std(arr)\n",
        "\n",
        "print(\"Array:\", arr)\n",
        "print(\"Mean:\", mean_value)\n",
        "print(\"Median:\", median_value)\n",
        "print(\"Standard Deviation:\", std_dev)"
      ]
    },
    {
      "cell_type": "markdown",
      "metadata": {
        "id": "VHPpp_mXhLR0"
      },
      "source": [
        "## 9. Reshape an Array\n",
        "Create a 1D NumPy array with 12 elements, then reshape it into a 3x4 matrix. Display the reshaped matrix."
      ]
    },
    {
      "cell_type": "code",
      "execution_count": null,
      "metadata": {
        "id": "8qRsHhUPhUI1"
      },
      "outputs": [],
      "source": [
        "import numpy as np\n",
        "\n",
        "arr = np.arange(1, 13)\n",
        "matrix = arr.reshape(3, 4)\n",
        "\n",
        "print(\"Reshaped 3x4 Matrix:\")\n",
        "print(matrix)"
      ]
    },
    {
      "cell_type": "markdown",
      "metadata": {
        "id": "-0DFiyHfhW_k"
      },
      "source": [
        "## 10. Conditional Selection\n",
        "Given a NumPy array `arr = [10, 15, 20, 25, 30, 35]`, use a conditional statement to select and print elements greater than 20."
      ]
    },
    {
      "cell_type": "code",
      "execution_count": null,
      "metadata": {
        "id": "Z3qLmZZJhclE"
      },
      "outputs": [],
      "source": [
        "import numpy as np\n",
        "\n",
        "arr = np.array([10, 15, 20, 25, 30, 35])\n",
        "filtered = arr[arr > 20]\n",
        "\n",
        "print(\"Elements greater than 20:\", filtered)"
      ]
    },
    {
      "cell_type": "markdown",
      "metadata": {
        "id": "DstB6T-MhcK0"
      },
      "source": [
        "## 11. One-hot Encoder\n",
        "A one-hot encoder is a technique used in machine learning and data preprocessing to convert categorical data into a numerical format that algorithms can work with more effectively. In this process, each unique category (or class) in the categorical feature is represented as a binary vector, where only one element is set to 1 (indicating the presence of that category) and all other elements are set to 0.\n",
        "\n",
        "For example, consider a categorical feature \"Color\" with three possible values: \"Red,\" \"Green,\" and \"Blue.\" A one-hot encoder would transform this feature into three binary features:\n",
        "\n",
        "* \"Red\" would be encoded as `[1, 0, 0]`\n",
        "* \"Green\" would be encoded as `[0, 1, 0]`\n",
        "* \"Blue\" would be encoded as `[0, 0, 1]`\n",
        "\n",
        "In this activity, the assignment of binary values is based on the order of appearance of the class in the given array.\n",
        "\n",
        "Sample output  1:\n",
        "```\n",
        "Enter an array of classes (separated by spaces): dog cat snake horse\n",
        "[[ 1, 0, 0, 0],\n",
        " [ 0, 1, 0, 0],\n",
        " [ 0, 0, 1, 0],\n",
        " [ 0, 0, 0, 1]]\n",
        "```\n",
        "\n",
        "Sample output 2:\n",
        "```\n",
        "Enter an array of classes (separated by spaces): dog dog dog cat snake snake horse horse horse cat\n",
        "[[ 1, 0, 0, 0],\n",
        " [ 1, 0, 0, 0],\n",
        " [ 1, 0, 0, 0],\n",
        " [ 0, 1, 0, 0],\n",
        " [ 0, 0, 1, 0],\n",
        " [ 0, 0, 1, 0],\n",
        " [ 0, 0, 0, 1],\n",
        " [ 0, 0, 0, 1],\n",
        " [ 0, 0, 0, 1],\n",
        " [ 0, 1, 0, 0]]\n",
        "```\n",
        "\n",
        "Sample output 3:\n",
        "```\n",
        "Enter an array of classes (separated by spaces): lotion lotion mug pencil pencil calendar calendar lotion mug\n",
        "[[ 1, 0, 0, 0],\n",
        " [ 1, 0, 0, 0],\n",
        " [ 0, 1, 0, 0],\n",
        " [ 0, 0, 1, 0],\n",
        " [ 0, 0, 1, 0],\n",
        " [ 0, 0, 0, 1],\n",
        " [ 0, 0, 0, 1],\n",
        " [ 1, 0, 0, 0],\n",
        " [ 0, 1, 0, 0]]\n",
        "```\n"
      ]
    },
    {
      "cell_type": "code",
      "execution_count": null,
      "metadata": {
        "id": "pdUQS9f2i8oM"
      },
      "outputs": [],
      "source": [
        "classes = input(\"Enter an array of classes (separated by spaces): \").split()\n",
        "\n",
        "unique_classes = []\n",
        "for c in classes:\n",
        "    if c not in unique_classes:\n",
        "        unique_classes.append(c)\n",
        "\n",
        "one_hot = []\n",
        "for c in classes:\n",
        "    vector = [1 if c == u else 0 for u in unique_classes]\n",
        "    one_hot.append(vector)\n",
        "\n",
        "print(one_hot)"
      ]
    },
    {
      "cell_type": "markdown",
      "metadata": {
        "id": "_h1zQVSHjRfz"
      },
      "source": [
        "\n",
        "## 12. Convolution Operation\n",
        "**Task Description**:\n",
        "Given a 5x5 matrix and a 3x3 kernel, apply the convolution operation manually by sliding the kernel over the matrix. The output will be a 3x3 matrix, where each element is the result of the convolution at that position.\n",
        "\n",
        "**Convolution Operation**:\n",
        "The convolution operation involves placing the center of the kernel on a matrix element, multiplying the overlapping values, and summing them up. The kernel is moved across the matrix to compute each element of the resulting matrix. Alternatively, learn the operation from this [YouTube](https://www.youtube.com/watch?v=yb2tPt0QVPY) demo.\n",
        "\n",
        "Sample Input:\n",
        "```\n",
        "Matrix (5x5):\n",
        "[[20 24 11 12 16]\n",
        " [19 17 20 23 15]\n",
        " [21 40 25 13 14]\n",
        " [ 9 18  8  6 11]\n",
        " [31  3  7  9 17]]\n",
        "\n",
        "Kernel (3x3):\n",
        "[[1 0 -1]\n",
        " [2 0 -2]\n",
        " [1 0 -1]]\n",
        "```\n",
        "\n",
        "Output:\n",
        "```\n",
        "[[ 3 27 16]\n",
        " [-8 60 24]\n",
        " [22 45 -5]]\n",
        "```"
      ]
    },
    {
      "cell_type": "code",
      "execution_count": null,
      "metadata": {
        "id": "FfCP1_MwnP4N"
      },
      "outputs": [],
      "source": [
        "import numpy as np\n",
        "\n",
        "matrix = np.array([\n",
        "    [20, 24, 11, 12, 16],\n",
        "    [19, 17, 20, 23, 15],\n",
        "    [21, 40, 25, 13, 14],\n",
        "    [ 9, 18,  8,  6, 11],\n",
        "    [31,  3,  7,  9, 17]\n",
        "])\n",
        "\n",
        "kernel = np.array([\n",
        "    [1, 0, -1],\n",
        "    [2, 0, -2],\n",
        "    [1, 0, -1]\n",
        "])\n",
        "\n",
        "matrix_size = matrix.shape[0]\n",
        "kernel_size = kernel.shape[0]\n",
        "output_size = matrix_size - kernel_size + 1\n",
        "output = np.zeros((output_size, output_size), dtype=int)\n",
        "\n",
        "for i in range(output_size):\n",
        "    for j in range(output_size):\n",
        "        sub_matrix = matrix[i:i+kernel_size, j:j+kernel_size]\n",
        "        conv_value = np.sum(sub_matrix * kernel)\n",
        "        output[i, j] = conv_value\n",
        "\n",
        "print(output)"
      ]
    },
    {
      "cell_type": "markdown",
      "metadata": {
        "id": "lhN3PNwVnrPt"
      },
      "source": [
        "# Pandas\n",
        "Pandas is a powerful and widely-used data manipulation and analysis library in Python, designed to handle structured data with ease and efficiency. Built on top of NumPy, Pandas introduces two primary data structures: Series (one-dimensional labeled arrays) and DataFrame (two-dimensional labeled tables), which allow users to perform a wide range of operations, such as data cleaning, filtering, aggregation, and visualization. With its intuitive and flexible syntax, Pandas simplifies the process of working with large datasets, making it an essential tool for data science, machine learning, and any task involving data analysis in Python."
      ]
    },
    {
      "cell_type": "markdown",
      "metadata": {
        "id": "xbjeMhynnzrs"
      },
      "source": [
        "## 1. Loading Data into a DataFrame\n",
        "Given a CSV file containing information about rice ([rice.csv](https://drive.google.com/file/d/1MmIKxklM498piI-QIPUuWBzlPtSnsyBf/view?usp=sharing)), load the file into a Pandas DataFrame and display the first 5 rows."
      ]
    },
    {
      "cell_type": "code",
      "execution_count": null,
      "metadata": {
        "id": "9MsWEs3Gouvl"
      },
      "outputs": [],
      "source": [
        "import pandas as pd\n",
        "\n",
        "df = pd.read_csv('rice.csv')\n",
        "print(df.head())"
      ]
    },
    {
      "cell_type": "markdown",
      "metadata": {
        "id": "1ekxKGsqoxB8"
      },
      "source": [
        "## 2. Basic DataFrame Operations\n",
        "Using the rice.csv DataFrame, print the column names, data types, and a summary of statistics (mean, min, max, etc.) for each numerical column."
      ]
    },
    {
      "cell_type": "code",
      "execution_count": null,
      "metadata": {
        "id": "dQtD8Hp9pvaF"
      },
      "outputs": [],
      "source": [
        "import pandas as pd\n",
        "\n",
        "df = pd.read_csv('rice.csv')\n",
        "\n",
        "print(\"Column Names:\")\n",
        "print(df.columns)\n",
        "\n",
        "print(\"\\nData Types:\")\n",
        "print(df.dtypes)\n",
        "\n",
        "print(\"\\nSummary Statistics for Numerical Columns:\")\n",
        "print(df.describe())"
      ]
    },
    {
      "cell_type": "markdown",
      "metadata": {
        "id": "HGQ5UD4xpGLE"
      },
      "source": [
        "## 3. Filtering and Selecting Data\n",
        "From the rice.csv DataFrame, filter the rows where the rice grain's area is greater than 13480 and select only the \"Eccentricity\" and \"Extent\" columns."
      ]
    },
    {
      "cell_type": "code",
      "execution_count": null,
      "metadata": {
        "id": "6y2bgp3YpvD1"
      },
      "outputs": [],
      "source": [
        "import pandas as pd\n",
        "\n",
        "df = pd.read_csv('rice.csv')\n",
        "filtered_df = df[df['Area'] > 13480][['Eccentricity', 'Extent']]\n",
        "\n",
        "print(filtered_df)"
      ]
    },
    {
      "cell_type": "markdown",
      "metadata": {
        "id": "oa6Ym9CtphJt"
      },
      "source": [
        "## 4. Handling Missing Data\n",
        "Given a DataFrame with missing values in some rows, identify the missing data, then drop the rows with missing data."
      ]
    },
    {
      "cell_type": "code",
      "execution_count": null,
      "metadata": {
        "id": "XR2mfhynpuYV"
      },
      "outputs": [],
      "source": [
        "import pandas as pd\n",
        "\n",
        "data = {\n",
        "    'Name': ['Alice', 'Bob', 'Charlie', 'David'],\n",
        "    'Age': [25, None, 30, 22],\n",
        "    'Salary': [50000, 60000, None, 45000]\n",
        "}\n",
        "\n",
        "df = pd.DataFrame(data)\n",
        "\n",
        "print(\"Missing data in each column:\")\n",
        "print(df.isnull())     \n",
        "print(\"\\nCount of missing values per column:\")\n",
        "print(df.isnull().sum())\n",
        "\n",
        "df_cleaned = df.dropna()\n",
        "print(\"\\nDataFrame after dropping rows with missing data:\")\n",
        "print(df_cleaned)"
      ]
    },
    {
      "cell_type": "markdown",
      "metadata": {
        "id": "l-zob-0hpxS9"
      },
      "source": [
        "## 5. Grouping and Aggregating Data\n",
        "Using the `rice.csv` DataFrame, group the data by the `Perimeter` column and calculate the `convex area` for each department."
      ]
    },
    {
      "cell_type": "code",
      "execution_count": null,
      "metadata": {
        "id": "hQoL7tL4qDi8"
      },
      "outputs": [],
      "source": [
        "import pandas as pd\n",
        "\n",
        "df = pd.read_csv('rice.csv')\n",
        "convex_sum = df.groupby('Perimeter')['Convex_Area'].sum()\n",
        "print(\"Sum of ConvexArea for each Perimeter:\")\n",
        "print(convex_sum)\n",
        "\n",
        "convex_mean = df.groupby('Perimeter')['Convex_Area'].mean()\n",
        "print(\"\\nMean of ConvexArea for each Perimeter:\")\n",
        "print(convex_mean)"
      ]
    },
    {
      "cell_type": "markdown",
      "metadata": {
        "id": "OCNIFx0AqFK2"
      },
      "source": [
        "## 6. Sorting Data\n",
        "Sort the rice.csv DataFrame by \"Perimeter\" in descending order and display the top 5 highest `Area`."
      ]
    },
    {
      "cell_type": "code",
      "execution_count": null,
      "metadata": {
        "id": "_Z4_Bt_yqYXN"
      },
      "outputs": [],
      "source": [
        "import pandas as pd\n",
        "\n",
        "df = pd.read_csv('rice.csv')\n",
        "\n",
        "sorted_df = df.sort_values(by='Perimeter', ascending=False)\n",
        "top5_area = sorted_df[['Area', 'Perimeter']].head(5)\n",
        "print(top5_area)"
      ]
    },
    {
      "cell_type": "markdown",
      "metadata": {
        "id": "ETtNNwG-qYqd"
      },
      "source": [
        "## 7. Data Visualization with Pandas\n",
        "Using the rice.csv DataFrame, create a box chart that shows the statistics for  each column. (You may need to use Matplotlib.)"
      ]
    },
    {
      "cell_type": "code",
      "execution_count": null,
      "metadata": {
        "id": "aiyLLMlBq4gt"
      },
      "outputs": [],
      "source": [
        "import pandas as pd\n",
        "import matplotlib.pyplot as plt\n",
        "\n",
        "df = pd.read_csv('rice.csv')\n",
        "\n",
        "plt.figure(figsize=(12, 6))\n",
        "df.boxplot()\n",
        "plt.title('Box Plot of Rice Dataset Columns')\n",
        "plt.ylabel('Values')\n",
        "plt.xticks(rotation=45) \n",
        "plt.show()"
      ]
    },
    {
      "cell_type": "markdown",
      "metadata": {
        "id": "CFAYkkYOrAlV"
      },
      "source": [
        "---\n",
        "## End of laboratory exercises. Nothing follows.\n"
      ]
    },
    {
      "cell_type": "markdown",
      "metadata": {
        "id": "ja2-2bAQXzaQ"
      },
      "source": [
        "## Future addition to problems in numpy\n",
        "activation functions"
      ]
    }
  ],
  "metadata": {
    "colab": {
      "provenance": []
    },
    "kernelspec": {
      "display_name": "base",
      "language": "python",
      "name": "python3"
    },
    "language_info": {
      "codemirror_mode": {
        "name": "ipython",
        "version": 3
      },
      "file_extension": ".py",
      "mimetype": "text/x-python",
      "name": "python",
      "nbconvert_exporter": "python",
      "pygments_lexer": "ipython3",
      "version": "3.13.5"
    }
  },
  "nbformat": 4,
  "nbformat_minor": 0
}
